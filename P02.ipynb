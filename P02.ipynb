{
  "cells": [
    {
      "cell_type": "markdown",
      "metadata": {
        "id": "EzfnlG_gKLhF"
      },
      "source": [
        "# <center> Project 02: Application of classification in Marketing and Sales </center>"
      ]
    },
    {
      "cell_type": "markdown",
      "metadata": {
        "id": "jdPg2j8dKLhG"
      },
      "source": [
        "# Seminar goals:\n",
        "In this project, we will develop and apply different supervised classification tecnhiques. These methodologies are broadly used in business to multiple use cases as:\n",
        "- identify **new customers** in the market\n",
        "- identify customers in our internal Data Warehouse with **more likely** to buy a new product\n",
        "- identify unsatisfied customers and thus, likely to be **churners**\n",
        "- classify text into categories for spam identification or to process messages or emails from our customers\n",
        "\n",
        "During this project we will follow the end-to-end Machine Learning process: from data gathering and cleaning, exploratory data analysis, feature engineering and finally, training and prediction. In particular, the main sections of this project are:\n",
        "1. Data understanding and preparation: exploration of the dataset and feature engineering (missing values, outlier identification, categorical variables management) \n",
        "2. Model Training: training the baseline SVM and Decision Trees. Analysis of metrics (recall, precision, confusion metrics) and improvement the classification through several techniques as undersampling to balance or ensemble of models\n",
        "3. Creating a Business opportunity with Machine Learning: selection of the best model and identification of the most important features\n",
        "\n",
        "\n",
        "\n",
        "We will apply all these techniques to identify new customers to capture and improve sales in a **marketing use case**."
      ]
    },
    {
      "cell_type": "markdown",
      "metadata": {
        "id": "-A4_3DZEKLhI"
      },
      "source": [
        "*******"
      ]
    },
    {
      "cell_type": "markdown",
      "metadata": {
        "id": "FZY4NReQKLhI"
      },
      "source": [
        "# 0. Context:  Using Machine Learning to increase our customers base"
      ]
    },
    {
      "cell_type": "markdown",
      "metadata": {
        "id": "diyA2X3aKLhJ"
      },
      "source": [
        "We work as a head of data science and AI in a new Internet of Things (IoT) company. Our company designs, builds and implements wireless IoT products.\n",
        "\n",
        "Our marketing colleagues are planning to launch a new commercial campaign for capturing new customers. We have to decide which companies are the target to be visited by our sales managers. As the cost to send a sales manager to visit a potential customer is quite high, we have to select from the total market base, those companies that are more likely to buy any of our products and become a new customer. \n",
        "\n",
        "To support this new campaign, we are **using several of the most important classification techniques**. We will manage key evaluation aspects of a classification as **recall, precision, false positive, etc...** to decide which are the best potential customers. \n"
      ]
    },
    {
      "cell_type": "markdown",
      "metadata": {
        "id": "1hxQ0QtwKLhK"
      },
      "source": [
        "## 0.1 Dataset"
      ]
    },
    {
      "cell_type": "markdown",
      "metadata": {
        "id": "uRr4nn5-KLhK"
      },
      "source": [
        "In this practice we are using a new dataset named `market_dt.csv`. This file contains information of **IoT market**, i.e. companies that could be interested to buy IoT products or they have already. In particular, the detailed information for each customer is:\n",
        "- *City*: Name of the city where the company is located\n",
        "- *Customer_Flag*: It is a flag that is 1 for current customers and 0 for non-customers\n",
        "- *Revenue*: The annual incomes of the company\n",
        "- *Sector*: It's an integer that identifies the sector of the company's activity\n",
        "- *CNT_EMPLOYEE*: Number of employees of the company\n",
        "- *CNT_CB_DENSITY*: Number of companies close\n",
        "- *CNT_CB_MOB_DENSITY*: Number of companies with mobile services\n",
        "- *CNT_CB_FN_DENSITY*: Number of companies with fixed services\n",
        "- *Legal_Form_Code*: It's an integer that identifies the legal type of the company: big, small or medium company\n",
        "- *Mobile potential*: It's an estimation of the total annual expense that a company can do in telco services, including IoT"
      ]
    },
    {
      "cell_type": "markdown",
      "metadata": {
        "id": "6U4Sxn_kKLhL"
      },
      "source": [
        "## 0.2. Imports"
      ]
    },
    {
      "cell_type": "code",
      "execution_count": 51,
      "metadata": {
        "id": "t4bx2UI5KLhM"
      },
      "outputs": [],
      "source": [
        "import pandas as pd\n",
        "import numpy as np\n",
        "import matplotlib.pyplot as plt\n",
        "from matplotlib import pyplot\n",
        "import matplotlib.cm as cm\n",
        "import seaborn as sns\n",
        "from scipy.stats import iqr\n",
        "from scipy.stats import chi2_contingency\n",
        "from sklearn.preprocessing import StandardScaler\n",
        "from sklearn.preprocessing import Normalizer\n",
        "from sklearn.preprocessing import MinMaxScaler\n",
        "from sklearn.preprocessing import LabelEncoder\n",
        "from sklearn.model_selection import train_test_split\n",
        "from sklearn.linear_model import SGDClassifier\n",
        "from sklearn.svm import SVC\n",
        "from sklearn.model_selection import train_test_split\n",
        "from sklearn.metrics import accuracy_score, auc, roc_curve, classification_report, confusion_matrix, precision_score, recall_score, precision_recall_curve\n",
        "from sklearn.tree import DecisionTreeClassifier\n",
        "from sklearn.ensemble import RandomForestClassifier, GradientBoostingClassifier, VotingClassifier, AdaBoostClassifier \n",
        "from sklearn.model_selection import KFold\n",
        "from sklearn.model_selection import cross_val_score\n",
        "from sklearn.model_selection import StratifiedKFold"
      ]
    },
    {
      "cell_type": "markdown",
      "metadata": {
        "id": "o7OfXFAoKLhP"
      },
      "source": [
        "# 1. Data understanding and preparation"
      ]
    },
    {
      "cell_type": "markdown",
      "metadata": {
        "id": "T0GEXTMZKLhQ"
      },
      "source": [
        "The first stage in any Machine Learning project is to have a clear understanding of the dataset from a statistical point of view but also from the perspective of the value of their variables to solve the use case or problem. To achieve this goal we need to \"clean\" and \"transform\" the data. All this process is known as **Data Wrangling**. In particular, the whole data wrangling process implies:\n",
        "- Define and apply an strategy for nulls and coding for categorical variables\n",
        "- Analyze the variables distribution and correlation between them\n",
        "- Remove outliers\n",
        "- etc....\n"
      ]
    },
    {
      "cell_type": "markdown",
      "metadata": {
        "id": "tzaVBJ98KLhQ"
      },
      "source": [
        "Let's open the csv with separator \";\" and assign to a dataframe variable (use read_csv from Pandas library). Let's see the top 5 elements."
      ]
    },
    {
      "cell_type": "code",
      "execution_count": 52,
      "metadata": {
        "colab": {
          "base_uri": "https://localhost:8080/",
          "height": 270
        },
        "id": "t7w8v94aKLhR",
        "outputId": "64de175d-0a2d-4103-b06d-95fe01e597fe"
      },
      "outputs": [
        {
          "data": {
            "text/html": [
              "\n",
              "  <div id=\"df-cf078f7f-e353-49eb-8018-ce9a9743bfb6\">\n",
              "    <div class=\"colab-df-container\">\n",
              "      <div>\n",
              "<style scoped>\n",
              "    .dataframe tbody tr th:only-of-type {\n",
              "        vertical-align: middle;\n",
              "    }\n",
              "\n",
              "    .dataframe tbody tr th {\n",
              "        vertical-align: top;\n",
              "    }\n",
              "\n",
              "    .dataframe thead th {\n",
              "        text-align: right;\n",
              "    }\n",
              "</style>\n",
              "<table border=\"1\" class=\"dataframe\">\n",
              "  <thead>\n",
              "    <tr style=\"text-align: right;\">\n",
              "      <th></th>\n",
              "      <th>City</th>\n",
              "      <th>Customer_Flag</th>\n",
              "      <th>Revenue</th>\n",
              "      <th>Sector</th>\n",
              "      <th>Legal_Form_Code</th>\n",
              "      <th>CNT_EMPLOYEE</th>\n",
              "      <th>CNT_CB_DENSITY</th>\n",
              "      <th>CNT_CB_MOB_DENSITY</th>\n",
              "      <th>CNT_CB_FN_DENSITY</th>\n",
              "      <th>Mobile_potential</th>\n",
              "    </tr>\n",
              "  </thead>\n",
              "  <tbody>\n",
              "    <tr>\n",
              "      <th>0</th>\n",
              "      <td>Bremen</td>\n",
              "      <td>0</td>\n",
              "      <td>21339309.0</td>\n",
              "      <td>26.0</td>\n",
              "      <td>14.0</td>\n",
              "      <td>28</td>\n",
              "      <td>161.0</td>\n",
              "      <td>154.0</td>\n",
              "      <td>10.0</td>\n",
              "      <td>2505.609457</td>\n",
              "    </tr>\n",
              "    <tr>\n",
              "      <th>1</th>\n",
              "      <td>Steinfurt</td>\n",
              "      <td>0</td>\n",
              "      <td>NaN</td>\n",
              "      <td>74.0</td>\n",
              "      <td>4.0</td>\n",
              "      <td>52</td>\n",
              "      <td>41.0</td>\n",
              "      <td>41.0</td>\n",
              "      <td>1.0</td>\n",
              "      <td>2714.197904</td>\n",
              "    </tr>\n",
              "    <tr>\n",
              "      <th>2</th>\n",
              "      <td>Magdeburg</td>\n",
              "      <td>0</td>\n",
              "      <td>NaN</td>\n",
              "      <td>83.0</td>\n",
              "      <td>28.0</td>\n",
              "      <td>29</td>\n",
              "      <td>188.0</td>\n",
              "      <td>187.0</td>\n",
              "      <td>6.0</td>\n",
              "      <td>2245.828787</td>\n",
              "    </tr>\n",
              "    <tr>\n",
              "      <th>3</th>\n",
              "      <td>Leipzig</td>\n",
              "      <td>0</td>\n",
              "      <td>NaN</td>\n",
              "      <td>61.0</td>\n",
              "      <td>28.0</td>\n",
              "      <td>13</td>\n",
              "      <td>597.0</td>\n",
              "      <td>594.0</td>\n",
              "      <td>21.0</td>\n",
              "      <td>2163.784785</td>\n",
              "    </tr>\n",
              "    <tr>\n",
              "      <th>4</th>\n",
              "      <td>Tamm</td>\n",
              "      <td>0</td>\n",
              "      <td>NaN</td>\n",
              "      <td>74.0</td>\n",
              "      <td>4.0</td>\n",
              "      <td>40</td>\n",
              "      <td>336.0</td>\n",
              "      <td>334.0</td>\n",
              "      <td>10.0</td>\n",
              "      <td>2338.611264</td>\n",
              "    </tr>\n",
              "  </tbody>\n",
              "</table>\n",
              "</div>\n",
              "      <button class=\"colab-df-convert\" onclick=\"convertToInteractive('df-cf078f7f-e353-49eb-8018-ce9a9743bfb6')\"\n",
              "              title=\"Convert this dataframe to an interactive table.\"\n",
              "              style=\"display:none;\">\n",
              "        \n",
              "  <svg xmlns=\"http://www.w3.org/2000/svg\" height=\"24px\"viewBox=\"0 0 24 24\"\n",
              "       width=\"24px\">\n",
              "    <path d=\"M0 0h24v24H0V0z\" fill=\"none\"/>\n",
              "    <path d=\"M18.56 5.44l.94 2.06.94-2.06 2.06-.94-2.06-.94-.94-2.06-.94 2.06-2.06.94zm-11 1L8.5 8.5l.94-2.06 2.06-.94-2.06-.94L8.5 2.5l-.94 2.06-2.06.94zm10 10l.94 2.06.94-2.06 2.06-.94-2.06-.94-.94-2.06-.94 2.06-2.06.94z\"/><path d=\"M17.41 7.96l-1.37-1.37c-.4-.4-.92-.59-1.43-.59-.52 0-1.04.2-1.43.59L10.3 9.45l-7.72 7.72c-.78.78-.78 2.05 0 2.83L4 21.41c.39.39.9.59 1.41.59.51 0 1.02-.2 1.41-.59l7.78-7.78 2.81-2.81c.8-.78.8-2.07 0-2.86zM5.41 20L4 18.59l7.72-7.72 1.47 1.35L5.41 20z\"/>\n",
              "  </svg>\n",
              "      </button>\n",
              "      \n",
              "  <style>\n",
              "    .colab-df-container {\n",
              "      display:flex;\n",
              "      flex-wrap:wrap;\n",
              "      gap: 12px;\n",
              "    }\n",
              "\n",
              "    .colab-df-convert {\n",
              "      background-color: #E8F0FE;\n",
              "      border: none;\n",
              "      border-radius: 50%;\n",
              "      cursor: pointer;\n",
              "      display: none;\n",
              "      fill: #1967D2;\n",
              "      height: 32px;\n",
              "      padding: 0 0 0 0;\n",
              "      width: 32px;\n",
              "    }\n",
              "\n",
              "    .colab-df-convert:hover {\n",
              "      background-color: #E2EBFA;\n",
              "      box-shadow: 0px 1px 2px rgba(60, 64, 67, 0.3), 0px 1px 3px 1px rgba(60, 64, 67, 0.15);\n",
              "      fill: #174EA6;\n",
              "    }\n",
              "\n",
              "    [theme=dark] .colab-df-convert {\n",
              "      background-color: #3B4455;\n",
              "      fill: #D2E3FC;\n",
              "    }\n",
              "\n",
              "    [theme=dark] .colab-df-convert:hover {\n",
              "      background-color: #434B5C;\n",
              "      box-shadow: 0px 1px 3px 1px rgba(0, 0, 0, 0.15);\n",
              "      filter: drop-shadow(0px 1px 2px rgba(0, 0, 0, 0.3));\n",
              "      fill: #FFFFFF;\n",
              "    }\n",
              "  </style>\n",
              "\n",
              "      <script>\n",
              "        const buttonEl =\n",
              "          document.querySelector('#df-cf078f7f-e353-49eb-8018-ce9a9743bfb6 button.colab-df-convert');\n",
              "        buttonEl.style.display =\n",
              "          google.colab.kernel.accessAllowed ? 'block' : 'none';\n",
              "\n",
              "        async function convertToInteractive(key) {\n",
              "          const element = document.querySelector('#df-cf078f7f-e353-49eb-8018-ce9a9743bfb6');\n",
              "          const dataTable =\n",
              "            await google.colab.kernel.invokeFunction('convertToInteractive',\n",
              "                                                     [key], {});\n",
              "          if (!dataTable) return;\n",
              "\n",
              "          const docLinkHtml = 'Like what you see? Visit the ' +\n",
              "            '<a target=\"_blank\" href=https://colab.research.google.com/notebooks/data_table.ipynb>data table notebook</a>'\n",
              "            + ' to learn more about interactive tables.';\n",
              "          element.innerHTML = '';\n",
              "          dataTable['output_type'] = 'display_data';\n",
              "          await google.colab.output.renderOutput(dataTable, element);\n",
              "          const docLink = document.createElement('div');\n",
              "          docLink.innerHTML = docLinkHtml;\n",
              "          element.appendChild(docLink);\n",
              "        }\n",
              "      </script>\n",
              "    </div>\n",
              "  </div>\n",
              "  "
            ],
            "text/plain": [
              "        City  Customer_Flag     Revenue  Sector  Legal_Form_Code  \\\n",
              "0     Bremen              0  21339309.0    26.0             14.0   \n",
              "1  Steinfurt              0         NaN    74.0              4.0   \n",
              "2  Magdeburg              0         NaN    83.0             28.0   \n",
              "3    Leipzig              0         NaN    61.0             28.0   \n",
              "4       Tamm              0         NaN    74.0              4.0   \n",
              "\n",
              "   CNT_EMPLOYEE  CNT_CB_DENSITY  CNT_CB_MOB_DENSITY  CNT_CB_FN_DENSITY  \\\n",
              "0            28           161.0               154.0               10.0   \n",
              "1            52            41.0                41.0                1.0   \n",
              "2            29           188.0               187.0                6.0   \n",
              "3            13           597.0               594.0               21.0   \n",
              "4            40           336.0               334.0               10.0   \n",
              "\n",
              "   Mobile_potential  \n",
              "0       2505.609457  \n",
              "1       2714.197904  \n",
              "2       2245.828787  \n",
              "3       2163.784785  \n",
              "4       2338.611264  "
            ]
          },
          "execution_count": 52,
          "metadata": {},
          "output_type": "execute_result"
        }
      ],
      "source": [
        "market_dt = pd.read_csv('market_dt.csv', usecols={'City', 'Customer_Flag', 'Revenue', 'Sector', 'CNT_EMPLOYEE',\n",
        "                                                 'CNT_CB_DENSITY', 'CNT_CB_MOB_DENSITY', 'CNT_CB_FN_DENSITY',\n",
        "                                                 'Legal_Form_Code','Mobile_potential'}, sep=\";\")\n",
        "market_dt.head()"
      ]
    },
    {
      "cell_type": "code",
      "execution_count": 53,
      "metadata": {
        "colab": {
          "base_uri": "https://localhost:8080/"
        },
        "id": "0Z6bFp33XHIm",
        "outputId": "aed9bc85-a832-4534-fc88-ceff1a41730c"
      },
      "outputs": [
        {
          "name": "stdout",
          "output_type": "stream",
          "text": [
            "<class 'pandas.core.frame.DataFrame'>\n",
            "RangeIndex: 13335 entries, 0 to 13334\n",
            "Data columns (total 10 columns):\n",
            " #   Column              Non-Null Count  Dtype  \n",
            "---  ------              --------------  -----  \n",
            " 0   City                13335 non-null  object \n",
            " 1   Customer_Flag       13335 non-null  int64  \n",
            " 2   Revenue             8589 non-null   float64\n",
            " 3   Sector              13235 non-null  float64\n",
            " 4   Legal_Form_Code     13229 non-null  float64\n",
            " 5   CNT_EMPLOYEE        13335 non-null  int64  \n",
            " 6   CNT_CB_DENSITY      10265 non-null  float64\n",
            " 7   CNT_CB_MOB_DENSITY  10265 non-null  float64\n",
            " 8   CNT_CB_FN_DENSITY   10265 non-null  float64\n",
            " 9   Mobile_potential    13335 non-null  float64\n",
            "dtypes: float64(7), int64(2), object(1)\n",
            "memory usage: 1.0+ MB\n"
          ]
        }
      ],
      "source": [
        "market_dt.info()"
      ]
    },
    {
      "cell_type": "markdown",
      "metadata": {
        "id": "osFK9XOAKLhV"
      },
      "source": [
        "[**EX1**] [**REPORT**] Let's identify the type of the variables (integer, float, chart...) and the size of the dataset and the file. Which are the variable with more nulls? And with no nulls? Why 'City' variables is considered as object type?\n",
        "\n",
        "Tip: [.info()](https://www.geeksforgeeks.org/python-pandas-dataframe-info/) is a function that reports the main characteristics of a dataframe."
      ]
    },
    {
      "cell_type": "markdown",
      "metadata": {
        "id": "H7G_6SIKsQDp"
      },
      "source": [
        "First of all, we are going to focus just to the extracted variables, since there are more in the original file, but we are going to work just with the extracted ones.\n",
        "\n",
        "The City variable is the more special one, sicne it uses the String format, or list of characters, buit it is stored as Object. This is because Pandas recognise a Datatype shose all instances have the same number of bytes, 8 bytes for int64 and float64 for example, but in the case of the String each one has a different size, so each one needs a different number of bytes, and since all the strings of the dataset are not of the same size,Pandas acnnot recognize that as a Srtring, and says that's an Object, which will not help us to use that column, since an Object cannot necessarily be a String and hecne we could not make operations with them. In the othere hand, Revenue and the Mobile Potential are floats and the rest are integers, although all of them except from Customer Flag and CNT_EMPLOYEE (which correctly are stored as integers) are stored as floats with no decimals in the data extraction.\n",
        "\n",
        "The Sector Variable has some Nulls, although in relation to the total number of instances it is practically negligible, and the same happens with the legal_form_code, which has even less Nulls. Moreover, CNT_CB_DENSITY, CNT_CB_MOB_DENSITY and CNT_CB_FN_DENSITY have multiple Nuls, while City, Customer_flag, CNT_EMPLOYEE and Mobile_potential have all no Nulls.\n",
        "\n",
        "Finally we have to say that the size of the complete dataset is 13335 entries, and there originally are 10 variables taken into account."
      ]
    },
    {
      "cell_type": "markdown",
      "metadata": {
        "id": "rnjxSOlfKLhZ"
      },
      "source": [
        "Once we have the first contact with the dataset, next step is to decide the strategy to apply to **nulls** values. There are several options as removing the rows with any **null**, assigning a constant value (e.g. median or mean value), etc.... In our case, we are removing the rows with **null** in any of the values."
      ]
    },
    {
      "cell_type": "markdown",
      "metadata": {
        "id": "j6WN5zKGKLhZ"
      },
      "source": [
        "[**EX2**] [**CODE**] Eliminate those rows which has nulls in any variable. Let's check that there is no nulls in any variable. Which is the size of the resulting dataset? "
      ]
    },
    {
      "cell_type": "code",
      "execution_count": 54,
      "metadata": {
        "colab": {
          "base_uri": "https://localhost:8080/",
          "height": 287
        },
        "id": "TjlZQoo3zu88",
        "outputId": "42664277-f454-46e3-a51f-1364c666a840"
      },
      "outputs": [
        {
          "data": {
            "text/html": [
              "\n",
              "  <div id=\"df-b866cd63-9dfc-4fbd-ad0f-47da45a65bf9\">\n",
              "    <div class=\"colab-df-container\">\n",
              "      <div>\n",
              "<style scoped>\n",
              "    .dataframe tbody tr th:only-of-type {\n",
              "        vertical-align: middle;\n",
              "    }\n",
              "\n",
              "    .dataframe tbody tr th {\n",
              "        vertical-align: top;\n",
              "    }\n",
              "\n",
              "    .dataframe thead th {\n",
              "        text-align: right;\n",
              "    }\n",
              "</style>\n",
              "<table border=\"1\" class=\"dataframe\">\n",
              "  <thead>\n",
              "    <tr style=\"text-align: right;\">\n",
              "      <th></th>\n",
              "      <th>City</th>\n",
              "      <th>Customer_Flag</th>\n",
              "      <th>Revenue</th>\n",
              "      <th>Sector</th>\n",
              "      <th>Legal_Form_Code</th>\n",
              "      <th>CNT_EMPLOYEE</th>\n",
              "      <th>CNT_CB_DENSITY</th>\n",
              "      <th>CNT_CB_MOB_DENSITY</th>\n",
              "      <th>CNT_CB_FN_DENSITY</th>\n",
              "      <th>Mobile_potential</th>\n",
              "    </tr>\n",
              "  </thead>\n",
              "  <tbody>\n",
              "    <tr>\n",
              "      <th>0</th>\n",
              "      <td>Bremen</td>\n",
              "      <td>0</td>\n",
              "      <td>21339309.0</td>\n",
              "      <td>26.0</td>\n",
              "      <td>14.0</td>\n",
              "      <td>28</td>\n",
              "      <td>161.0</td>\n",
              "      <td>154.0</td>\n",
              "      <td>10.0</td>\n",
              "      <td>2505.609457</td>\n",
              "    </tr>\n",
              "    <tr>\n",
              "      <th>5</th>\n",
              "      <td>Düsseldorf</td>\n",
              "      <td>0</td>\n",
              "      <td>8500000.0</td>\n",
              "      <td>59.0</td>\n",
              "      <td>14.0</td>\n",
              "      <td>27</td>\n",
              "      <td>869.0</td>\n",
              "      <td>857.0</td>\n",
              "      <td>59.0</td>\n",
              "      <td>3103.670976</td>\n",
              "    </tr>\n",
              "    <tr>\n",
              "      <th>6</th>\n",
              "      <td>Halle</td>\n",
              "      <td>0</td>\n",
              "      <td>2100000.0</td>\n",
              "      <td>73.0</td>\n",
              "      <td>20.0</td>\n",
              "      <td>37</td>\n",
              "      <td>209.0</td>\n",
              "      <td>206.0</td>\n",
              "      <td>9.0</td>\n",
              "      <td>2108.833841</td>\n",
              "    </tr>\n",
              "    <tr>\n",
              "      <th>8</th>\n",
              "      <td>Stuttgart</td>\n",
              "      <td>0</td>\n",
              "      <td>630000.0</td>\n",
              "      <td>56.0</td>\n",
              "      <td>14.0</td>\n",
              "      <td>13</td>\n",
              "      <td>749.0</td>\n",
              "      <td>727.0</td>\n",
              "      <td>51.0</td>\n",
              "      <td>2381.708430</td>\n",
              "    </tr>\n",
              "    <tr>\n",
              "      <th>9</th>\n",
              "      <td>Porta Westfalica</td>\n",
              "      <td>0</td>\n",
              "      <td>149400000.0</td>\n",
              "      <td>43.0</td>\n",
              "      <td>22.0</td>\n",
              "      <td>48</td>\n",
              "      <td>110.0</td>\n",
              "      <td>107.0</td>\n",
              "      <td>4.0</td>\n",
              "      <td>2772.726870</td>\n",
              "    </tr>\n",
              "  </tbody>\n",
              "</table>\n",
              "</div>\n",
              "      <button class=\"colab-df-convert\" onclick=\"convertToInteractive('df-b866cd63-9dfc-4fbd-ad0f-47da45a65bf9')\"\n",
              "              title=\"Convert this dataframe to an interactive table.\"\n",
              "              style=\"display:none;\">\n",
              "        \n",
              "  <svg xmlns=\"http://www.w3.org/2000/svg\" height=\"24px\"viewBox=\"0 0 24 24\"\n",
              "       width=\"24px\">\n",
              "    <path d=\"M0 0h24v24H0V0z\" fill=\"none\"/>\n",
              "    <path d=\"M18.56 5.44l.94 2.06.94-2.06 2.06-.94-2.06-.94-.94-2.06-.94 2.06-2.06.94zm-11 1L8.5 8.5l.94-2.06 2.06-.94-2.06-.94L8.5 2.5l-.94 2.06-2.06.94zm10 10l.94 2.06.94-2.06 2.06-.94-2.06-.94-.94-2.06-.94 2.06-2.06.94z\"/><path d=\"M17.41 7.96l-1.37-1.37c-.4-.4-.92-.59-1.43-.59-.52 0-1.04.2-1.43.59L10.3 9.45l-7.72 7.72c-.78.78-.78 2.05 0 2.83L4 21.41c.39.39.9.59 1.41.59.51 0 1.02-.2 1.41-.59l7.78-7.78 2.81-2.81c.8-.78.8-2.07 0-2.86zM5.41 20L4 18.59l7.72-7.72 1.47 1.35L5.41 20z\"/>\n",
              "  </svg>\n",
              "      </button>\n",
              "      \n",
              "  <style>\n",
              "    .colab-df-container {\n",
              "      display:flex;\n",
              "      flex-wrap:wrap;\n",
              "      gap: 12px;\n",
              "    }\n",
              "\n",
              "    .colab-df-convert {\n",
              "      background-color: #E8F0FE;\n",
              "      border: none;\n",
              "      border-radius: 50%;\n",
              "      cursor: pointer;\n",
              "      display: none;\n",
              "      fill: #1967D2;\n",
              "      height: 32px;\n",
              "      padding: 0 0 0 0;\n",
              "      width: 32px;\n",
              "    }\n",
              "\n",
              "    .colab-df-convert:hover {\n",
              "      background-color: #E2EBFA;\n",
              "      box-shadow: 0px 1px 2px rgba(60, 64, 67, 0.3), 0px 1px 3px 1px rgba(60, 64, 67, 0.15);\n",
              "      fill: #174EA6;\n",
              "    }\n",
              "\n",
              "    [theme=dark] .colab-df-convert {\n",
              "      background-color: #3B4455;\n",
              "      fill: #D2E3FC;\n",
              "    }\n",
              "\n",
              "    [theme=dark] .colab-df-convert:hover {\n",
              "      background-color: #434B5C;\n",
              "      box-shadow: 0px 1px 3px 1px rgba(0, 0, 0, 0.15);\n",
              "      filter: drop-shadow(0px 1px 2px rgba(0, 0, 0, 0.3));\n",
              "      fill: #FFFFFF;\n",
              "    }\n",
              "  </style>\n",
              "\n",
              "      <script>\n",
              "        const buttonEl =\n",
              "          document.querySelector('#df-b866cd63-9dfc-4fbd-ad0f-47da45a65bf9 button.colab-df-convert');\n",
              "        buttonEl.style.display =\n",
              "          google.colab.kernel.accessAllowed ? 'block' : 'none';\n",
              "\n",
              "        async function convertToInteractive(key) {\n",
              "          const element = document.querySelector('#df-b866cd63-9dfc-4fbd-ad0f-47da45a65bf9');\n",
              "          const dataTable =\n",
              "            await google.colab.kernel.invokeFunction('convertToInteractive',\n",
              "                                                     [key], {});\n",
              "          if (!dataTable) return;\n",
              "\n",
              "          const docLinkHtml = 'Like what you see? Visit the ' +\n",
              "            '<a target=\"_blank\" href=https://colab.research.google.com/notebooks/data_table.ipynb>data table notebook</a>'\n",
              "            + ' to learn more about interactive tables.';\n",
              "          element.innerHTML = '';\n",
              "          dataTable['output_type'] = 'display_data';\n",
              "          await google.colab.output.renderOutput(dataTable, element);\n",
              "          const docLink = document.createElement('div');\n",
              "          docLink.innerHTML = docLinkHtml;\n",
              "          element.appendChild(docLink);\n",
              "        }\n",
              "      </script>\n",
              "    </div>\n",
              "  </div>\n",
              "  "
            ],
            "text/plain": [
              "               City  Customer_Flag      Revenue  Sector  Legal_Form_Code  \\\n",
              "0            Bremen              0   21339309.0    26.0             14.0   \n",
              "5        Düsseldorf              0    8500000.0    59.0             14.0   \n",
              "6             Halle              0    2100000.0    73.0             20.0   \n",
              "8         Stuttgart              0     630000.0    56.0             14.0   \n",
              "9  Porta Westfalica              0  149400000.0    43.0             22.0   \n",
              "\n",
              "   CNT_EMPLOYEE  CNT_CB_DENSITY  CNT_CB_MOB_DENSITY  CNT_CB_FN_DENSITY  \\\n",
              "0            28           161.0               154.0               10.0   \n",
              "5            27           869.0               857.0               59.0   \n",
              "6            37           209.0               206.0                9.0   \n",
              "8            13           749.0               727.0               51.0   \n",
              "9            48           110.0               107.0                4.0   \n",
              "\n",
              "   Mobile_potential  \n",
              "0       2505.609457  \n",
              "5       3103.670976  \n",
              "6       2108.833841  \n",
              "8       2381.708430  \n",
              "9       2772.726870  "
            ]
          },
          "execution_count": 54,
          "metadata": {},
          "output_type": "execute_result"
        }
      ],
      "source": [
        "market_dt = market_dt.dropna()\n",
        "market_dt.head()"
      ]
    },
    {
      "cell_type": "markdown",
      "metadata": {
        "id": "jMAZKlkpKLhf"
      },
      "source": [
        "Your output should look like this:"
      ]
    },
    {
      "cell_type": "code",
      "execution_count": 55,
      "metadata": {
        "colab": {
          "base_uri": "https://localhost:8080/"
        },
        "id": "GcNLFh4iyaUo",
        "outputId": "2da0234e-3c0d-413f-9e69-dea6d5933b8d"
      },
      "outputs": [
        {
          "name": "stdout",
          "output_type": "stream",
          "text": [
            "<class 'pandas.core.frame.DataFrame'>\n",
            "Int64Index: 6987 entries, 0 to 13321\n",
            "Data columns (total 10 columns):\n",
            " #   Column              Non-Null Count  Dtype  \n",
            "---  ------              --------------  -----  \n",
            " 0   City                6987 non-null   object \n",
            " 1   Customer_Flag       6987 non-null   int64  \n",
            " 2   Revenue             6987 non-null   float64\n",
            " 3   Sector              6987 non-null   float64\n",
            " 4   Legal_Form_Code     6987 non-null   float64\n",
            " 5   CNT_EMPLOYEE        6987 non-null   int64  \n",
            " 6   CNT_CB_DENSITY      6987 non-null   float64\n",
            " 7   CNT_CB_MOB_DENSITY  6987 non-null   float64\n",
            " 8   CNT_CB_FN_DENSITY   6987 non-null   float64\n",
            " 9   Mobile_potential    6987 non-null   float64\n",
            "dtypes: float64(7), int64(2), object(1)\n",
            "memory usage: 600.4+ KB\n"
          ]
        }
      ],
      "source": [
        "market_dt.info()"
      ]
    },
    {
      "cell_type": "markdown",
      "metadata": {
        "id": "A4fhLCmoZqZJ"
      },
      "source": [
        "**As we can see in the table we have equaled the size of every column when we have removed NaN values. The initial dataset had a size of 13335 entries and now  it has a size of 6987. **"
      ]
    },
    {
      "cell_type": "markdown",
      "metadata": {
        "id": "uR4UCXz6KLhj"
      },
      "source": [
        "In Machine Learning, it is key to analyze the variables from a statistical point of view: knowing the distribution of each variable, their mean and median are key to identify any transformation to apply before training the model. \n",
        "Furthermore, due to we are training a classifier (in our case, to classify between ***customers*** and ***non customers***), this analysis should be done for both classes separetly."
      ]
    },
    {
      "cell_type": "markdown",
      "metadata": {
        "id": "L2r-IQ7OKLhj"
      },
      "source": [
        "[**EX3**] [**REPORT**] Create a `customer_dt`and `noncustomer_dt`datasets based on the `Customer_Flag`variable (`Customer_Flag`=1 for **customers** and 0 for **noncustomers**). Build a boxplot for the `Revenue`, `CNT_EMPLOYEE`, `Mobile_potential` and `CNT_CB_Density` numeric variables for both datasets. Which are the main differences between `customer_dt`and `noncustomer_dt` datasets comparing these variables. Which is the dataset with `CNT_EMPLOYEE` higher? Which datasets have more outliers in `Revenues`? Which is the Q1, median (=Q2) and Q3 for `Revenues`and `Mobile_potential`?\n",
        "\n",
        "\n",
        "Tip: you may have to use the [boxplot](https://matplotlib.org/3.1.1/api/_as_gen/matplotlib.pyplot.boxplot.html) function."
      ]
    },
    {
      "cell_type": "code",
      "execution_count": 56,
      "metadata": {
        "colab": {
          "base_uri": "https://localhost:8080/"
        },
        "id": "vQ_gW2r6Xzwp",
        "outputId": "db14b39f-f3bf-420a-cb6f-de0084395c54"
      },
      "outputs": [
        {
          "name": "stdout",
          "output_type": "stream",
          "text": [
            "<class 'pandas.core.frame.DataFrame'>\n",
            "Int64Index: 1111 entries, 11548 to 13321\n",
            "Data columns (total 10 columns):\n",
            " #   Column              Non-Null Count  Dtype  \n",
            "---  ------              --------------  -----  \n",
            " 0   City                1111 non-null   object \n",
            " 1   Customer_Flag       1111 non-null   int64  \n",
            " 2   Revenue             1111 non-null   float64\n",
            " 3   Sector              1111 non-null   float64\n",
            " 4   Legal_Form_Code     1111 non-null   float64\n",
            " 5   CNT_EMPLOYEE        1111 non-null   int64  \n",
            " 6   CNT_CB_DENSITY      1111 non-null   float64\n",
            " 7   CNT_CB_MOB_DENSITY  1111 non-null   float64\n",
            " 8   CNT_CB_FN_DENSITY   1111 non-null   float64\n",
            " 9   Mobile_potential    1111 non-null   float64\n",
            "dtypes: float64(7), int64(2), object(1)\n",
            "memory usage: 95.5+ KB\n",
            "None\n",
            "<class 'pandas.core.frame.DataFrame'>\n",
            "Int64Index: 5876 entries, 0 to 11546\n",
            "Data columns (total 10 columns):\n",
            " #   Column              Non-Null Count  Dtype  \n",
            "---  ------              --------------  -----  \n",
            " 0   City                5876 non-null   object \n",
            " 1   Customer_Flag       5876 non-null   int64  \n",
            " 2   Revenue             5876 non-null   float64\n",
            " 3   Sector              5876 non-null   float64\n",
            " 4   Legal_Form_Code     5876 non-null   float64\n",
            " 5   CNT_EMPLOYEE        5876 non-null   int64  \n",
            " 6   CNT_CB_DENSITY      5876 non-null   float64\n",
            " 7   CNT_CB_MOB_DENSITY  5876 non-null   float64\n",
            " 8   CNT_CB_FN_DENSITY   5876 non-null   float64\n",
            " 9   Mobile_potential    5876 non-null   float64\n",
            "dtypes: float64(7), int64(2), object(1)\n",
            "memory usage: 505.0+ KB\n",
            "None\n"
          ]
        }
      ],
      "source": [
        "customer_dt = market_dt\n",
        "noncustomer_dt = market_dt\n",
        "\n",
        "customer_dt = customer_dt.drop(customer_dt[customer_dt.Customer_Flag == 0].index) # Extracting non-customers (Customer_Flag == 0)\n",
        "noncustomer_dt = noncustomer_dt.drop(noncustomer_dt[noncustomer_dt.Customer_Flag == 1].index) # Extracting customers (Customer_Flag == 1)\n",
        "\n",
        "print(customer_dt.info())\n",
        "print(noncustomer_dt.info())\n"
      ]
    },
    {
      "cell_type": "code",
      "execution_count": 57,
      "metadata": {
        "colab": {
          "base_uri": "https://localhost:8080/",
          "height": 1000
        },
        "id": "PKA7u2pBSTsA",
        "outputId": "e93ce41b-db3f-49b1-f51e-3a2581e8bcde"
      },
      "outputs": [
        {
          "name": "stdout",
          "output_type": "stream",
          "text": [
            "\n",
            "                                               CUSTOMERS BOXPLOTS:\n",
            "\n"
          ]
        },
        {
          "data": {
            "image/png": "[encoded data removed]",
            "text/plain": [
              "<Figure size 1440x864 with 4 Axes>"
            ]
          },
          "metadata": {
            "needs_background": "light"
          },
          "output_type": "display_data"
        },
        {
          "name": "stdout",
          "output_type": "stream",
          "text": [
            "\n",
            "                                            NONCUSTOMERS BOXPLOTS:\n",
            "\n"
          ]
        },
        {
          "data": {
            "image/png": "[encoded data removed]",
            "text/plain": [
              "<Figure size 1440x864 with 4 Axes>"
            ]
          },
          "metadata": {
            "needs_background": "light"
          },
          "output_type": "display_data"
        }
      ],
      "source": [
        "print(\"\\n                                               CUSTOMERS BOXPLOTS:\\n\")\n",
        "fig, (ax1, ax2, ax3, ax4) = plt.subplots(nrows = 1, ncols = 4, figsize = (20, 12))\n",
        "ax1.boxplot(customer_dt['Revenue'])\n",
        "ax1.set_title(\"Revenue\")\n",
        "ax2.boxplot(customer_dt['CNT_EMPLOYEE'])\n",
        "ax2.set_title(\"CNT_EMPLOYEE\")\n",
        "ax3.boxplot(customer_dt['Mobile_potential'])\n",
        "ax3.set_title(\"Mobile_potential\")\n",
        "ax4.boxplot(customer_dt['CNT_CB_MOB_DENSITY'])\n",
        "ax4.set_title(\"CNT_CB_MOB_DENSITY\")\n",
        "pyplot.show()\n",
        "\n",
        "print(\"\\n                                            NONCUSTOMERS BOXPLOTS:\\n\")\n",
        "fig, (ax1, ax2, ax3, ax4) = plt.subplots(nrows = 1, ncols = 4, figsize = (20, 12))\n",
        "ax1.boxplot(noncustomer_dt['Revenue'])\n",
        "ax1.set_title(\"Revenue\")\n",
        "ax2.boxplot(noncustomer_dt['CNT_EMPLOYEE'])\n",
        "ax2.set_title(\"CNT_EMPLOYEE\")\n",
        "ax3.boxplot(noncustomer_dt['Mobile_potential'])\n",
        "ax3.set_title(\"Mobile_potential\")\n",
        "ax4.boxplot(noncustomer_dt['CNT_CB_MOB_DENSITY'])\n",
        "ax4.set_title(\"CNT_CB_MOB_DENSITY\")\n",
        "pyplot.show()"
      ]
    },
    {
      "cell_type": "markdown",
      "metadata": {
        "id": "P4LaqjUyKLhm"
      },
      "source": [
        "As we observe from the boxplots, some of them present outliers. There are several mechanisms to eliminate outliers. One option is to eliminate the values higher than a statistical value for each numerical variable."
      ]
    },
    {
      "cell_type": "code",
      "execution_count": 58,
      "metadata": {
        "colab": {
          "base_uri": "https://localhost:8080/"
        },
        "id": "AX68EBm1djzp",
        "outputId": "5e4ac871-1fcd-48c7-8cf3-cb3f59762d5a"
      },
      "outputs": [
        {
          "name": "stdout",
          "output_type": "stream",
          "text": [
            "Revenue Outliers: \n",
            "Noncustomers outliers = 234 , Customers outliers = 35\n"
          ]
        }
      ],
      "source": [
        "#We compute the number of outliers for both Noncustomers and Customers of the Revenue value\n",
        "nc_outliers = noncustomer_dt[noncustomer_dt.Revenue > 5*iqr(noncustomer_dt['Revenue'],interpolation = 'midpoint')]\n",
        "c_outliers = customer_dt[customer_dt.Revenue > 5*iqr(customer_dt['Revenue'],interpolation = 'midpoint')]\n",
        "\n",
        "print(\"Revenue Outliers: \")\n",
        "print(\"Noncustomers outliers = %s , Customers outliers = %s\" % (len(nc_outliers), len(c_outliers)))"
      ]
    },
    {
      "cell_type": "code",
      "execution_count": 59,
      "metadata": {
        "colab": {
          "base_uri": "https://localhost:8080/"
        },
        "id": "wCTWfc_3V5RY",
        "outputId": "a6eef4ba-7fcb-4470-de2e-6e74edaafe96"
      },
      "outputs": [
        {
          "name": "stdout",
          "output_type": "stream",
          "text": [
            "The quantiles for the Revenue variable are:\n",
            "NonCustomer Q1 = 902986.0 , Customer Q1 = 1047500.0\n",
            "NonCustomer Q2 = 1750000.0 , Customer Q2 = 2200000.0\n",
            "NonCustomer Q3 = 3501123.5 , Customer Q3 = 4195000.0\n",
            "\n",
            "The quantiles for the Mobile potential variable are:\n",
            "NonCustomer Q1 = 1975.5165190653966 , Customer Q1 = 2090.6967281537\n",
            "NonCustomer Q2 = 2277.9727974861535 , Customer Q2 = 2401.464692530968\n",
            "NonCustomer Q3 = 2631.926166103982 , Customer Q3 = 2826.2351826061667\n"
          ]
        }
      ],
      "source": [
        "#Now we're gonna compute the Q1, Q2 and Q3 of Revenue and Mobile potential variables for both customers and noncustomers\n",
        "# Noncustomer Quantiles \n",
        "nc_Q1_rev = np.quantile(noncustomer_dt['Revenue'], 0.25)\n",
        "nc_Q2_rev = np.median(noncustomer_dt['Revenue'])\n",
        "nc_Q3_rev = np.quantile(noncustomer_dt['Revenue'], 0.75)\n",
        "\n",
        "nc_Q1_mp = np.quantile(noncustomer_dt['Mobile_potential'], 0.25)\n",
        "nc_Q2_mp = np.median(noncustomer_dt['Mobile_potential'])\n",
        "nc_Q3_mp = np.quantile(noncustomer_dt['Mobile_potential'], 0.75)\n",
        "\n",
        "#Customer Quantiles\n",
        "c_Q1_rev = np.quantile(customer_dt['Revenue'], 0.25)\n",
        "c_Q2_rev = np.median(customer_dt['Revenue'])\n",
        "c_Q3_rev = np.quantile(customer_dt['Revenue'], 0.75)\n",
        "\n",
        "c_Q1_mp = np.quantile(customer_dt['Mobile_potential'], 0.25)\n",
        "c_Q2_mp = np.median(customer_dt['Mobile_potential'])\n",
        "c_Q3_mp = np.quantile(customer_dt['Mobile_potential'], 0.75)\n",
        "\n",
        "\n",
        "print(\"The quantiles for the Revenue variable are:\")\n",
        "print(\"NonCustomer Q1 = %s , Customer Q1 = %s\" % (nc_Q1_rev, c_Q1_rev))\n",
        "print(\"NonCustomer Q2 = %s , Customer Q2 = %s\" % (nc_Q2_rev, c_Q2_rev))\n",
        "print(\"NonCustomer Q3 = %s , Customer Q3 = %s\\n\" % (nc_Q3_rev, c_Q3_rev))\n",
        "\n",
        "print(\"The quantiles for the Mobile potential variable are:\")\n",
        "print(\"NonCustomer Q1 = %s , Customer Q1 = %s\" % (nc_Q1_mp, c_Q1_mp))\n",
        "print(\"NonCustomer Q2 = %s , Customer Q2 = %s\" % (nc_Q2_mp, c_Q2_mp))\n",
        "print(\"NonCustomer Q3 = %s , Customer Q3 = %s\" % (nc_Q3_mp, c_Q3_mp))"
      ]
    },
    {
      "cell_type": "markdown",
      "metadata": {
        "id": "puFRcL_-KLhn"
      },
      "source": [
        "[**EX4**] [**CODE**] Remove the values higher than 5* IQR for each variable: `Revenue`, `CNT_EMPLOYEE`, `Mobile_potential`, `CNT_CB_DENSITY`, `CNT_CB_MOB_DENSITY`and `CNT_CB_FN_DENSITY`. Compare with the boxplot of the previous exercise [**EX3**] and explain the differences."
      ]
    },
    {
      "cell_type": "code",
      "execution_count": 60,
      "metadata": {
        "colab": {
          "base_uri": "https://localhost:8080/",
          "height": 565
        },
        "id": "bOxpB-LTiDzS",
        "outputId": "371d6801-0f5d-4f4b-9ff3-0f853f1f0396"
      },
      "outputs": [
        {
          "name": "stdout",
          "output_type": "stream",
          "text": [
            "<class 'pandas.core.frame.DataFrame'>\n",
            "Int64Index: 4909 entries, 5 to 11546\n",
            "Data columns (total 10 columns):\n",
            " #   Column              Non-Null Count  Dtype  \n",
            "---  ------              --------------  -----  \n",
            " 0   City                4909 non-null   object \n",
            " 1   Customer_Flag       4909 non-null   int64  \n",
            " 2   Revenue             4909 non-null   float64\n",
            " 3   Sector              4909 non-null   float64\n",
            " 4   Legal_Form_Code     4909 non-null   float64\n",
            " 5   CNT_EMPLOYEE        4909 non-null   int64  \n",
            " 6   CNT_CB_DENSITY      4909 non-null   float64\n",
            " 7   CNT_CB_MOB_DENSITY  4909 non-null   float64\n",
            " 8   CNT_CB_FN_DENSITY   4909 non-null   float64\n",
            " 9   Mobile_potential    4909 non-null   float64\n",
            "dtypes: float64(7), int64(2), object(1)\n",
            "memory usage: 421.9+ KB\n"
          ]
        },
        {
          "data": {
            "text/html": [
              "\n",
              "  <div id=\"df-f5eb75a2-275e-4e09-b319-29bddc7ba79b\">\n",
              "    <div class=\"colab-df-container\">\n",
              "      <div>\n",
              "<style scoped>\n",
              "    .dataframe tbody tr th:only-of-type {\n",
              "        vertical-align: middle;\n",
              "    }\n",
              "\n",
              "    .dataframe tbody tr th {\n",
              "        vertical-align: top;\n",
              "    }\n",
              "\n",
              "    .dataframe thead th {\n",
              "        text-align: right;\n",
              "    }\n",
              "</style>\n",
              "<table border=\"1\" class=\"dataframe\">\n",
              "  <thead>\n",
              "    <tr style=\"text-align: right;\">\n",
              "      <th></th>\n",
              "      <th>City</th>\n",
              "      <th>Customer_Flag</th>\n",
              "      <th>Revenue</th>\n",
              "      <th>Sector</th>\n",
              "      <th>Legal_Form_Code</th>\n",
              "      <th>CNT_EMPLOYEE</th>\n",
              "      <th>CNT_CB_DENSITY</th>\n",
              "      <th>CNT_CB_MOB_DENSITY</th>\n",
              "      <th>CNT_CB_FN_DENSITY</th>\n",
              "      <th>Mobile_potential</th>\n",
              "    </tr>\n",
              "  </thead>\n",
              "  <tbody>\n",
              "    <tr>\n",
              "      <th>5</th>\n",
              "      <td>Düsseldorf</td>\n",
              "      <td>0</td>\n",
              "      <td>8500000.0</td>\n",
              "      <td>59.0</td>\n",
              "      <td>14.0</td>\n",
              "      <td>27</td>\n",
              "      <td>869.0</td>\n",
              "      <td>857.0</td>\n",
              "      <td>59.0</td>\n",
              "      <td>3103.670976</td>\n",
              "    </tr>\n",
              "    <tr>\n",
              "      <th>6</th>\n",
              "      <td>Halle</td>\n",
              "      <td>0</td>\n",
              "      <td>2100000.0</td>\n",
              "      <td>73.0</td>\n",
              "      <td>20.0</td>\n",
              "      <td>37</td>\n",
              "      <td>209.0</td>\n",
              "      <td>206.0</td>\n",
              "      <td>9.0</td>\n",
              "      <td>2108.833841</td>\n",
              "    </tr>\n",
              "    <tr>\n",
              "      <th>8</th>\n",
              "      <td>Stuttgart</td>\n",
              "      <td>0</td>\n",
              "      <td>630000.0</td>\n",
              "      <td>56.0</td>\n",
              "      <td>14.0</td>\n",
              "      <td>13</td>\n",
              "      <td>749.0</td>\n",
              "      <td>727.0</td>\n",
              "      <td>51.0</td>\n",
              "      <td>2381.708430</td>\n",
              "    </tr>\n",
              "    <tr>\n",
              "      <th>13</th>\n",
              "      <td>Kerpen</td>\n",
              "      <td>0</td>\n",
              "      <td>8000000.0</td>\n",
              "      <td>47.0</td>\n",
              "      <td>4.0</td>\n",
              "      <td>48</td>\n",
              "      <td>245.0</td>\n",
              "      <td>239.0</td>\n",
              "      <td>15.0</td>\n",
              "      <td>3179.085811</td>\n",
              "    </tr>\n",
              "    <tr>\n",
              "      <th>19</th>\n",
              "      <td>Immenreuth</td>\n",
              "      <td>0</td>\n",
              "      <td>5160000.0</td>\n",
              "      <td>74.0</td>\n",
              "      <td>4.0</td>\n",
              "      <td>13</td>\n",
              "      <td>9.0</td>\n",
              "      <td>9.0</td>\n",
              "      <td>0.0</td>\n",
              "      <td>1897.730166</td>\n",
              "    </tr>\n",
              "  </tbody>\n",
              "</table>\n",
              "</div>\n",
              "      <button class=\"colab-df-convert\" onclick=\"convertToInteractive('df-f5eb75a2-275e-4e09-b319-29bddc7ba79b')\"\n",
              "              title=\"Convert this dataframe to an interactive table.\"\n",
              "              style=\"display:none;\">\n",
              "        \n",
              "  <svg xmlns=\"http://www.w3.org/2000/svg\" height=\"24px\"viewBox=\"0 0 24 24\"\n",
              "       width=\"24px\">\n",
              "    <path d=\"M0 0h24v24H0V0z\" fill=\"none\"/>\n",
              "    <path d=\"M18.56 5.44l.94 2.06.94-2.06 2.06-.94-2.06-.94-.94-2.06-.94 2.06-2.06.94zm-11 1L8.5 8.5l.94-2.06 2.06-.94-2.06-.94L8.5 2.5l-.94 2.06-2.06.94zm10 10l.94 2.06.94-2.06 2.06-.94-2.06-.94-.94-2.06-.94 2.06-2.06.94z\"/><path d=\"M17.41 7.96l-1.37-1.37c-.4-.4-.92-.59-1.43-.59-.52 0-1.04.2-1.43.59L10.3 9.45l-7.72 7.72c-.78.78-.78 2.05 0 2.83L4 21.41c.39.39.9.59 1.41.59.51 0 1.02-.2 1.41-.59l7.78-7.78 2.81-2.81c.8-.78.8-2.07 0-2.86zM5.41 20L4 18.59l7.72-7.72 1.47 1.35L5.41 20z\"/>\n",
              "  </svg>\n",
              "      </button>\n",
              "      \n",
              "  <style>\n",
              "    .colab-df-container {\n",
              "      display:flex;\n",
              "      flex-wrap:wrap;\n",
              "      gap: 12px;\n",
              "    }\n",
              "\n",
              "    .colab-df-convert {\n",
              "      background-color: #E8F0FE;\n",
              "      border: none;\n",
              "      border-radius: 50%;\n",
              "      cursor: pointer;\n",
              "      display: none;\n",
              "      fill: #1967D2;\n",
              "      height: 32px;\n",
              "      padding: 0 0 0 0;\n",
              "      width: 32px;\n",
              "    }\n",
              "\n",
              "    .colab-df-convert:hover {\n",
              "      background-color: #E2EBFA;\n",
              "      box-shadow: 0px 1px 2px rgba(60, 64, 67, 0.3), 0px 1px 3px 1px rgba(60, 64, 67, 0.15);\n",
              "      fill: #174EA6;\n",
              "    }\n",
              "\n",
              "    [theme=dark] .colab-df-convert {\n",
              "      background-color: #3B4455;\n",
              "      fill: #D2E3FC;\n",
              "    }\n",
              "\n",
              "    [theme=dark] .colab-df-convert:hover {\n",
              "      background-color: #434B5C;\n",
              "      box-shadow: 0px 1px 3px 1px rgba(0, 0, 0, 0.15);\n",
              "      filter: drop-shadow(0px 1px 2px rgba(0, 0, 0, 0.3));\n",
              "      fill: #FFFFFF;\n",
              "    }\n",
              "  </style>\n",
              "\n",
              "      <script>\n",
              "        const buttonEl =\n",
              "          document.querySelector('#df-f5eb75a2-275e-4e09-b319-29bddc7ba79b button.colab-df-convert');\n",
              "        buttonEl.style.display =\n",
              "          google.colab.kernel.accessAllowed ? 'block' : 'none';\n",
              "\n",
              "        async function convertToInteractive(key) {\n",
              "          const element = document.querySelector('#df-f5eb75a2-275e-4e09-b319-29bddc7ba79b');\n",
              "          const dataTable =\n",
              "            await google.colab.kernel.invokeFunction('convertToInteractive',\n",
              "                                                     [key], {});\n",
              "          if (!dataTable) return;\n",
              "\n",
              "          const docLinkHtml = 'Like what you see? Visit the ' +\n",
              "            '<a target=\"_blank\" href=https://colab.research.google.com/notebooks/data_table.ipynb>data table notebook</a>'\n",
              "            + ' to learn more about interactive tables.';\n",
              "          element.innerHTML = '';\n",
              "          dataTable['output_type'] = 'display_data';\n",
              "          await google.colab.output.renderOutput(dataTable, element);\n",
              "          const docLink = document.createElement('div');\n",
              "          docLink.innerHTML = docLinkHtml;\n",
              "          element.appendChild(docLink);\n",
              "        }\n",
              "      </script>\n",
              "    </div>\n",
              "  </div>\n",
              "  "
            ],
            "text/plain": [
              "          City  Customer_Flag    Revenue  Sector  Legal_Form_Code  \\\n",
              "5   Düsseldorf              0  8500000.0    59.0             14.0   \n",
              "6        Halle              0  2100000.0    73.0             20.0   \n",
              "8    Stuttgart              0   630000.0    56.0             14.0   \n",
              "13      Kerpen              0  8000000.0    47.0              4.0   \n",
              "19  Immenreuth              0  5160000.0    74.0              4.0   \n",
              "\n",
              "    CNT_EMPLOYEE  CNT_CB_DENSITY  CNT_CB_MOB_DENSITY  CNT_CB_FN_DENSITY  \\\n",
              "5             27           869.0               857.0               59.0   \n",
              "6             37           209.0               206.0                9.0   \n",
              "8             13           749.0               727.0               51.0   \n",
              "13            48           245.0               239.0               15.0   \n",
              "19            13             9.0                 9.0                0.0   \n",
              "\n",
              "    Mobile_potential  \n",
              "5        3103.670976  \n",
              "6        2108.833841  \n",
              "8        2381.708430  \n",
              "13       3179.085811  \n",
              "19       1897.730166  "
            ]
          },
          "execution_count": 60,
          "metadata": {},
          "output_type": "execute_result"
        }
      ],
      "source": [
        "#We compute the IQR values\n",
        "IQR_rev = iqr(noncustomer_dt['Revenue'],interpolation = 'midpoint')\n",
        "\n",
        "IQR_emp = iqr(noncustomer_dt['CNT_EMPLOYEE'],interpolation = 'midpoint')\n",
        "\n",
        "IQR_mp = iqr(noncustomer_dt['Mobile_potential'],interpolation = 'midpoint')\n",
        "\n",
        "IQR_den = iqr(noncustomer_dt['CNT_CB_DENSITY'],interpolation = 'midpoint')\n",
        "\n",
        "IQR_mobden = iqr(noncustomer_dt['CNT_CB_MOB_DENSITY'],interpolation = 'midpoint')\n",
        "\n",
        "IQR_fnden = iqr(noncustomer_dt['CNT_CB_FN_DENSITY'],interpolation = 'midpoint')\n",
        "\n",
        "# Dropping every row such any of targeted features is higher than their respective upper bound\n",
        "noncustomer_dt = noncustomer_dt[(noncustomer_dt.Revenue <= 5*IQR_rev) \n",
        "                                           & (noncustomer_dt.CNT_EMPLOYEE <= 5*IQR_emp)\n",
        "                                           & (noncustomer_dt.Mobile_potential <= 5*IQR_mp)\n",
        "                                           & (noncustomer_dt.CNT_CB_DENSITY <= 5*IQR_den)\n",
        "                                           & (noncustomer_dt.CNT_CB_MOB_DENSITY <= 5*IQR_mobden)\n",
        "                                           & (noncustomer_dt.CNT_CB_FN_DENSITY <= 5*IQR_fnden)]\n",
        "\n",
        "\n",
        "noncustomer_dt.info()\n",
        "noncustomer_dt.head()"
      ]
    },
    {
      "cell_type": "code",
      "execution_count": 61,
      "metadata": {
        "colab": {
          "base_uri": "https://localhost:8080/",
          "height": 565
        },
        "id": "a4y6Smz4QYqY",
        "outputId": "1f8844ee-581b-45c3-ac9a-1877e7986672"
      },
      "outputs": [
        {
          "name": "stdout",
          "output_type": "stream",
          "text": [
            "<class 'pandas.core.frame.DataFrame'>\n",
            "Int64Index: 956 entries, 11548 to 13321\n",
            "Data columns (total 10 columns):\n",
            " #   Column              Non-Null Count  Dtype  \n",
            "---  ------              --------------  -----  \n",
            " 0   City                956 non-null    object \n",
            " 1   Customer_Flag       956 non-null    int64  \n",
            " 2   Revenue             956 non-null    float64\n",
            " 3   Sector              956 non-null    float64\n",
            " 4   Legal_Form_Code     956 non-null    float64\n",
            " 5   CNT_EMPLOYEE        956 non-null    int64  \n",
            " 6   CNT_CB_DENSITY      956 non-null    float64\n",
            " 7   CNT_CB_MOB_DENSITY  956 non-null    float64\n",
            " 8   CNT_CB_FN_DENSITY   956 non-null    float64\n",
            " 9   Mobile_potential    956 non-null    float64\n",
            "dtypes: float64(7), int64(2), object(1)\n",
            "memory usage: 82.2+ KB\n"
          ]
        },
        {
          "data": {
            "text/html": [
              "\n",
              "  <div id=\"df-1ab68a78-6130-4bfd-ade2-77a3a992a035\">\n",
              "    <div class=\"colab-df-container\">\n",
              "      <div>\n",
              "<style scoped>\n",
              "    .dataframe tbody tr th:only-of-type {\n",
              "        vertical-align: middle;\n",
              "    }\n",
              "\n",
              "    .dataframe tbody tr th {\n",
              "        vertical-align: top;\n",
              "    }\n",
              "\n",
              "    .dataframe thead th {\n",
              "        text-align: right;\n",
              "    }\n",
              "</style>\n",
              "<table border=\"1\" class=\"dataframe\">\n",
              "  <thead>\n",
              "    <tr style=\"text-align: right;\">\n",
              "      <th></th>\n",
              "      <th>City</th>\n",
              "      <th>Customer_Flag</th>\n",
              "      <th>Revenue</th>\n",
              "      <th>Sector</th>\n",
              "      <th>Legal_Form_Code</th>\n",
              "      <th>CNT_EMPLOYEE</th>\n",
              "      <th>CNT_CB_DENSITY</th>\n",
              "      <th>CNT_CB_MOB_DENSITY</th>\n",
              "      <th>CNT_CB_FN_DENSITY</th>\n",
              "      <th>Mobile_potential</th>\n",
              "    </tr>\n",
              "  </thead>\n",
              "  <tbody>\n",
              "    <tr>\n",
              "      <th>11548</th>\n",
              "      <td>Haar</td>\n",
              "      <td>1</td>\n",
              "      <td>4000000.0</td>\n",
              "      <td>42.0</td>\n",
              "      <td>14.0</td>\n",
              "      <td>17</td>\n",
              "      <td>891.0</td>\n",
              "      <td>867.0</td>\n",
              "      <td>62.0</td>\n",
              "      <td>1846.104451</td>\n",
              "    </tr>\n",
              "    <tr>\n",
              "      <th>11551</th>\n",
              "      <td>Greding</td>\n",
              "      <td>1</td>\n",
              "      <td>11780000.0</td>\n",
              "      <td>74.0</td>\n",
              "      <td>4.0</td>\n",
              "      <td>53</td>\n",
              "      <td>7.0</td>\n",
              "      <td>7.0</td>\n",
              "      <td>0.0</td>\n",
              "      <td>2083.941040</td>\n",
              "    </tr>\n",
              "    <tr>\n",
              "      <th>11553</th>\n",
              "      <td>Dörth</td>\n",
              "      <td>1</td>\n",
              "      <td>2050000.0</td>\n",
              "      <td>43.0</td>\n",
              "      <td>14.0</td>\n",
              "      <td>16</td>\n",
              "      <td>30.0</td>\n",
              "      <td>30.0</td>\n",
              "      <td>1.0</td>\n",
              "      <td>2209.827333</td>\n",
              "    </tr>\n",
              "    <tr>\n",
              "      <th>11554</th>\n",
              "      <td>Frankfurt</td>\n",
              "      <td>1</td>\n",
              "      <td>853500.0</td>\n",
              "      <td>63.0</td>\n",
              "      <td>14.0</td>\n",
              "      <td>14</td>\n",
              "      <td>870.0</td>\n",
              "      <td>842.0</td>\n",
              "      <td>77.0</td>\n",
              "      <td>2401.464693</td>\n",
              "    </tr>\n",
              "    <tr>\n",
              "      <th>11565</th>\n",
              "      <td>Benningen</td>\n",
              "      <td>1</td>\n",
              "      <td>10680000.0</td>\n",
              "      <td>74.0</td>\n",
              "      <td>4.0</td>\n",
              "      <td>17</td>\n",
              "      <td>319.0</td>\n",
              "      <td>317.0</td>\n",
              "      <td>10.0</td>\n",
              "      <td>2579.765989</td>\n",
              "    </tr>\n",
              "  </tbody>\n",
              "</table>\n",
              "</div>\n",
              "      <button class=\"colab-df-convert\" onclick=\"convertToInteractive('df-1ab68a78-6130-4bfd-ade2-77a3a992a035')\"\n",
              "              title=\"Convert this dataframe to an interactive table.\"\n",
              "              style=\"display:none;\">\n",
              "        \n",
              "  <svg xmlns=\"http://www.w3.org/2000/svg\" height=\"24px\"viewBox=\"0 0 24 24\"\n",
              "       width=\"24px\">\n",
              "    <path d=\"M0 0h24v24H0V0z\" fill=\"none\"/>\n",
              "    <path d=\"M18.56 5.44l.94 2.06.94-2.06 2.06-.94-2.06-.94-.94-2.06-.94 2.06-2.06.94zm-11 1L8.5 8.5l.94-2.06 2.06-.94-2.06-.94L8.5 2.5l-.94 2.06-2.06.94zm10 10l.94 2.06.94-2.06 2.06-.94-2.06-.94-.94-2.06-.94 2.06-2.06.94z\"/><path d=\"M17.41 7.96l-1.37-1.37c-.4-.4-.92-.59-1.43-.59-.52 0-1.04.2-1.43.59L10.3 9.45l-7.72 7.72c-.78.78-.78 2.05 0 2.83L4 21.41c.39.39.9.59 1.41.59.51 0 1.02-.2 1.41-.59l7.78-7.78 2.81-2.81c.8-.78.8-2.07 0-2.86zM5.41 20L4 18.59l7.72-7.72 1.47 1.35L5.41 20z\"/>\n",
              "  </svg>\n",
              "      </button>\n",
              "      \n",
              "  <style>\n",
              "    .colab-df-container {\n",
              "      display:flex;\n",
              "      flex-wrap:wrap;\n",
              "      gap: 12px;\n",
              "    }\n",
              "\n",
              "    .colab-df-convert {\n",
              "      background-color: #E8F0FE;\n",
              "      border: none;\n",
              "      border-radius: 50%;\n",
              "      cursor: pointer;\n",
              "      display: none;\n",
              "      fill: #1967D2;\n",
              "      height: 32px;\n",
              "      padding: 0 0 0 0;\n",
              "      width: 32px;\n",
              "    }\n",
              "\n",
              "    .colab-df-convert:hover {\n",
              "      background-color: #E2EBFA;\n",
              "      box-shadow: 0px 1px 2px rgba(60, 64, 67, 0.3), 0px 1px 3px 1px rgba(60, 64, 67, 0.15);\n",
              "      fill: #174EA6;\n",
              "    }\n",
              "\n",
              "    [theme=dark] .colab-df-convert {\n",
              "      background-color: #3B4455;\n",
              "      fill: #D2E3FC;\n",
              "    }\n",
              "\n",
              "    [theme=dark] .colab-df-convert:hover {\n",
              "      background-color: #434B5C;\n",
              "      box-shadow: 0px 1px 3px 1px rgba(0, 0, 0, 0.15);\n",
              "      filter: drop-shadow(0px 1px 2px rgba(0, 0, 0, 0.3));\n",
              "      fill: #FFFFFF;\n",
              "    }\n",
              "  </style>\n",
              "\n",
              "      <script>\n",
              "        const buttonEl =\n",
              "          document.querySelector('#df-1ab68a78-6130-4bfd-ade2-77a3a992a035 button.colab-df-convert');\n",
              "        buttonEl.style.display =\n",
              "          google.colab.kernel.accessAllowed ? 'block' : 'none';\n",
              "\n",
              "        async function convertToInteractive(key) {\n",
              "          const element = document.querySelector('#df-1ab68a78-6130-4bfd-ade2-77a3a992a035');\n",
              "          const dataTable =\n",
              "            await google.colab.kernel.invokeFunction('convertToInteractive',\n",
              "                                                     [key], {});\n",
              "          if (!dataTable) return;\n",
              "\n",
              "          const docLinkHtml = 'Like what you see? Visit the ' +\n",
              "            '<a target=\"_blank\" href=https://colab.research.google.com/notebooks/data_table.ipynb>data table notebook</a>'\n",
              "            + ' to learn more about interactive tables.';\n",
              "          element.innerHTML = '';\n",
              "          dataTable['output_type'] = 'display_data';\n",
              "          await google.colab.output.renderOutput(dataTable, element);\n",
              "          const docLink = document.createElement('div');\n",
              "          docLink.innerHTML = docLinkHtml;\n",
              "          element.appendChild(docLink);\n",
              "        }\n",
              "      </script>\n",
              "    </div>\n",
              "  </div>\n",
              "  "
            ],
            "text/plain": [
              "            City  Customer_Flag     Revenue  Sector  Legal_Form_Code  \\\n",
              "11548       Haar              1   4000000.0    42.0             14.0   \n",
              "11551    Greding              1  11780000.0    74.0              4.0   \n",
              "11553      Dörth              1   2050000.0    43.0             14.0   \n",
              "11554  Frankfurt              1    853500.0    63.0             14.0   \n",
              "11565  Benningen              1  10680000.0    74.0              4.0   \n",
              "\n",
              "       CNT_EMPLOYEE  CNT_CB_DENSITY  CNT_CB_MOB_DENSITY  CNT_CB_FN_DENSITY  \\\n",
              "11548            17           891.0               867.0               62.0   \n",
              "11551            53             7.0                 7.0                0.0   \n",
              "11553            16            30.0                30.0                1.0   \n",
              "11554            14           870.0               842.0               77.0   \n",
              "11565            17           319.0               317.0               10.0   \n",
              "\n",
              "       Mobile_potential  \n",
              "11548       1846.104451  \n",
              "11551       2083.941040  \n",
              "11553       2209.827333  \n",
              "11554       2401.464693  \n",
              "11565       2579.765989  "
            ]
          },
          "execution_count": 61,
          "metadata": {},
          "output_type": "execute_result"
        }
      ],
      "source": [
        "#We compute the IQR values\n",
        "c_IQR_rev = iqr(customer_dt['Revenue'],interpolation = 'midpoint')\n",
        "\n",
        "c_IQR_emp = iqr(customer_dt['CNT_EMPLOYEE'],interpolation = 'midpoint')\n",
        "\n",
        "c_IQR_mp = iqr(customer_dt['Mobile_potential'],interpolation = 'midpoint')\n",
        "\n",
        "c_IQR_den = iqr(customer_dt['CNT_CB_DENSITY'],interpolation = 'midpoint')\n",
        "\n",
        "c_IQR_mobden = iqr(customer_dt['CNT_CB_MOB_DENSITY'],interpolation = 'midpoint')\n",
        "\n",
        "c_IQR_fnden = iqr(customer_dt['CNT_CB_FN_DENSITY'],interpolation = 'midpoint')\n",
        "\n",
        "# Dropping every row such any of targeted features is higher than their respective upper bound\n",
        "customer_dt = customer_dt[(customer_dt.Revenue <= 5*c_IQR_rev) \n",
        "                                           & (customer_dt.CNT_EMPLOYEE <= 5*c_IQR_emp)\n",
        "                                           & (customer_dt.Mobile_potential <= 5*c_IQR_mp)\n",
        "                                           & (customer_dt.CNT_CB_DENSITY <= 5*c_IQR_den)\n",
        "                                           & (customer_dt.CNT_CB_MOB_DENSITY <= 5*c_IQR_mobden)\n",
        "                                           & (customer_dt.CNT_CB_FN_DENSITY <= 5*c_IQR_fnden)]\n",
        "\n",
        "\n",
        "customer_dt.info()\n",
        "customer_dt.head()"
      ]
    },
    {
      "cell_type": "code",
      "execution_count": 62,
      "metadata": {
        "colab": {
          "base_uri": "https://localhost:8080/",
          "height": 1000
        },
        "id": "MntkauDTVctm",
        "outputId": "04749689-0b79-4db1-cf53-8b5b09f20660"
      },
      "outputs": [
        {
          "name": "stdout",
          "output_type": "stream",
          "text": [
            "\n",
            "                                               CUSTOMERS BOXPLOTS:\n",
            "\n"
          ]
        },
        {
          "data": {
            "image/png": "[encoded data removed]",
            "text/plain": [
              "<Figure size 1440x864 with 4 Axes>"
            ]
          },
          "metadata": {
            "needs_background": "light"
          },
          "output_type": "display_data"
        },
        {
          "name": "stdout",
          "output_type": "stream",
          "text": [
            "\n",
            "                                            NONCUSTOMERS BOXPLOTS:\n",
            "\n"
          ]
        },
        {
          "data": {
            "image/png": "[encoded data removed]",
            "text/plain": [
              "<Figure size 1440x864 with 4 Axes>"
            ]
          },
          "metadata": {
            "needs_background": "light"
          },
          "output_type": "display_data"
        }
      ],
      "source": [
        "print(\"\\n                                               CUSTOMERS BOXPLOTS:\\n\")\n",
        "fig, (ax1, ax2, ax3, ax4) = plt.subplots(nrows = 1, ncols = 4, figsize = (20, 12))\n",
        "ax1.boxplot(customer_dt['Revenue'])\n",
        "ax1.set_title(\"Revenue\")\n",
        "ax2.boxplot(customer_dt['CNT_EMPLOYEE'])\n",
        "ax2.set_title(\"CNT_EMPLOYEE\")\n",
        "ax3.boxplot(customer_dt['Mobile_potential'])\n",
        "ax3.set_title(\"Mobile_potential\")\n",
        "ax4.boxplot(customer_dt['CNT_CB_MOB_DENSITY'])\n",
        "ax4.set_title(\"CNT_CB_MOB_DENSITY\")\n",
        "pyplot.show()\n",
        "print(\"\\n                                            NONCUSTOMERS BOXPLOTS:\\n\")\n",
        "fig, (ax1, ax2, ax3, ax4) = plt.subplots(nrows = 1, ncols = 4, figsize = (20, 12))\n",
        "ax1.boxplot(noncustomer_dt['Revenue'])\n",
        "ax1.set_title(\"Revenue\")\n",
        "ax2.boxplot(noncustomer_dt['CNT_EMPLOYEE'])\n",
        "ax2.set_title(\"CNT_EMPLOYEE\")\n",
        "ax3.boxplot(noncustomer_dt['Mobile_potential'])\n",
        "ax3.set_title(\"Mobile_potential\")\n",
        "ax4.boxplot(noncustomer_dt['CNT_CB_MOB_DENSITY'])\n",
        "ax4.set_title(\"CNT_CB_MOB_DENSITY\")\n",
        "pyplot.show()"
      ]
    },
    {
      "cell_type": "code",
      "execution_count": 63,
      "metadata": {
        "colab": {
          "base_uri": "https://localhost:8080/"
        },
        "id": "VgolPwHBa0Dp",
        "outputId": "dc6a0b07-ad6d-4300-ce95-096765bd0dc9"
      },
      "outputs": [
        {
          "name": "stdout",
          "output_type": "stream",
          "text": [
            "The quantiles for the Revenue variable are:\n",
            "NonCustomer Q1 = 855000.0 , Customer Q1 = 1000000.0\n",
            "NonCustomer Q2 = 1600000.0 , Customer Q2 = 2046664.5\n",
            "NonCustomer Q3 = 3092304.0 , Customer Q3 = 3758283.5\n",
            "\n",
            "The quantiles for the Mobile potential variable are:\n",
            "NonCustomer Q1 = 1961.3782027546692 , Customer Q1 = 2084.519611548282\n",
            "NonCustomer Q2 = 2248.23562939751 , Customer Q2 = 2391.692104145126\n",
            "NonCustomer Q3 = 2576.204966085905 , Customer Q3 = 2783.8970456303837\n"
          ]
        }
      ],
      "source": [
        "#Now we're gonna compute the Q1, Q2 and Q3 of Revenue and Mobile potential variables for both customers and noncustomers\n",
        "# Noncustomer Quantiles \n",
        "nc_Q1_rev = np.quantile(noncustomer_dt['Revenue'], 0.25)\n",
        "nc_Q2_rev = np.median(noncustomer_dt['Revenue'])\n",
        "nc_Q3_rev = np.quantile(noncustomer_dt['Revenue'], 0.75)\n",
        "\n",
        "nc_Q1_mp = np.quantile(noncustomer_dt['Mobile_potential'], 0.25)\n",
        "nc_Q2_mp = np.median(noncustomer_dt['Mobile_potential'])\n",
        "nc_Q3_mp = np.quantile(noncustomer_dt['Mobile_potential'], 0.75)\n",
        "\n",
        "#Customer Quantiles\n",
        "c_Q1_rev = np.quantile(customer_dt['Revenue'], 0.25)\n",
        "c_Q2_rev = np.median(customer_dt['Revenue'])\n",
        "c_Q3_rev = np.quantile(customer_dt['Revenue'], 0.75)\n",
        "\n",
        "c_Q1_mp = np.quantile(customer_dt['Mobile_potential'], 0.25)\n",
        "c_Q2_mp = np.median(customer_dt['Mobile_potential'])\n",
        "c_Q3_mp = np.quantile(customer_dt['Mobile_potential'], 0.75)\n",
        "\n",
        "\n",
        "print(\"The quantiles for the Revenue variable are:\")\n",
        "print(\"NonCustomer Q1 = %s , Customer Q1 = %s\" % (nc_Q1_rev, c_Q1_rev))\n",
        "print(\"NonCustomer Q2 = %s , Customer Q2 = %s\" % (nc_Q2_rev, c_Q2_rev))\n",
        "print(\"NonCustomer Q3 = %s , Customer Q3 = %s\\n\" % (nc_Q3_rev, c_Q3_rev))\n",
        "\n",
        "print(\"The quantiles for the Mobile potential variable are:\")\n",
        "print(\"NonCustomer Q1 = %s , Customer Q1 = %s\" % (nc_Q1_mp, c_Q1_mp))\n",
        "print(\"NonCustomer Q2 = %s , Customer Q2 = %s\" % (nc_Q2_mp, c_Q2_mp))\n",
        "print(\"NonCustomer Q3 = %s , Customer Q3 = %s\" % (nc_Q3_mp, c_Q3_mp))"
      ]
    },
    {
      "cell_type": "markdown",
      "metadata": {
        "id": "uxFLvjdgaCbg"
      },
      "source": [
        "**[EX]**\n",
        "In these boxplots we can clearly see that the number of outliers has been seriously reduced, specially in Revenue and Density boxplots. As is shown in the previous print, the quantils have changed a lot after removing the outliers bringing a more homogeneous data and avoiding extreme values that can complicate creating a model. "
      ]
    },
    {
      "cell_type": "markdown",
      "metadata": {
        "id": "QT-ULfjoKLhv"
      },
      "source": [
        "On the other hand, before applying any classification algorithm, it is necessary to transform non-numerical variables. The most common transformations are **coding as integer** or **coding as dummies**. Before deciding the mechanism it is important to analyze, for each categorical variable, their number of different values and their frequencies. In case of high number of possible values in comparision with the size of the dataset, **dummy** transformation could generate sparse matrix."
      ]
    },
    {
      "cell_type": "markdown",
      "metadata": {
        "id": "TfWf0K_-KLhv"
      },
      "source": [
        "[**EX5**] [**REPORT**] Calculate the ratio of the values of `City` for `customer_dt` and `noncustomer_dt` datasets. Compare the ratio of each category of each dataset."
      ]
    },
    {
      "cell_type": "code",
      "execution_count": 64,
      "metadata": {
        "colab": {
          "base_uri": "https://localhost:8080/"
        },
        "id": "xGQhYbG5j6eP",
        "outputId": "16731da8-1543-4b55-f775-23b0c6e3d87b"
      },
      "outputs": [
        {
          "name": "stdout",
          "output_type": "stream",
          "text": [
            "City ratio values for customer_dt dataset\n",
            " München         0.024059\n",
            "Köln            0.020921\n",
            "Chemnitz        0.017782\n",
            "Dresden         0.015690\n",
            "Berlin          0.015690\n",
            "                  ...   \n",
            "Hiddenhausen    0.001046\n",
            "Eppelheim       0.001046\n",
            "Flörsheim       0.001046\n",
            "Bad Abbach      0.001046\n",
            "Wedemark        0.001046\n",
            "Name: City, Length: 557, dtype: float64\n",
            "City ratio values for noncustomer_dt dataset\n",
            " Köln          0.016093\n",
            "Bremen        0.009982\n",
            "Stuttgart     0.009778\n",
            "Dortmund      0.009371\n",
            "Dresden       0.009167\n",
            "                ...   \n",
            "Salzbergen    0.000204\n",
            "Bonstetten    0.000204\n",
            "Neusäß        0.000204\n",
            "Wolfhagen     0.000204\n",
            "Solms         0.000204\n",
            "Name: City, Length: 2126, dtype: float64\n"
          ]
        }
      ],
      "source": [
        "c_city_ratio = customer_dt[\"City\"].value_counts(normalize=True)\n",
        "nc_city_ratio = noncustomer_dt[\"City\"].value_counts(normalize=True)\n",
        "\n",
        "print(\"City ratio values for customer_dt dataset\\n\", c_city_ratio)\n",
        "print(\"City ratio values for noncustomer_dt dataset\\n\", nc_city_ratio)\n"
      ]
    },
    {
      "cell_type": "markdown",
      "metadata": {
        "id": "0bCyWWPTKLhy"
      },
      "source": [
        "As the number of distinct values is high, we will apply a **integer** encoding through the LabelEncoder() transformation as follows:"
      ]
    },
    {
      "cell_type": "code",
      "execution_count": 65,
      "metadata": {
        "colab": {
          "base_uri": "https://localhost:8080/",
          "height": 270
        },
        "id": "9fKR-_uXKLh2",
        "outputId": "49abee47-23b1-43c1-f881-a65f1c3c12a2"
      },
      "outputs": [
        {
          "data": {
            "text/html": [
              "\n",
              "  <div id=\"df-f3cc6d4d-6327-4a1b-846e-e72d70fd2fbb\">\n",
              "    <div class=\"colab-df-container\">\n",
              "      <div>\n",
              "<style scoped>\n",
              "    .dataframe tbody tr th:only-of-type {\n",
              "        vertical-align: middle;\n",
              "    }\n",
              "\n",
              "    .dataframe tbody tr th {\n",
              "        vertical-align: top;\n",
              "    }\n",
              "\n",
              "    .dataframe thead th {\n",
              "        text-align: right;\n",
              "    }\n",
              "</style>\n",
              "<table border=\"1\" class=\"dataframe\">\n",
              "  <thead>\n",
              "    <tr style=\"text-align: right;\">\n",
              "      <th></th>\n",
              "      <th>City</th>\n",
              "      <th>Customer_Flag</th>\n",
              "      <th>Revenue</th>\n",
              "      <th>Sector</th>\n",
              "      <th>Legal_Form_Code</th>\n",
              "      <th>CNT_EMPLOYEE</th>\n",
              "      <th>CNT_CB_DENSITY</th>\n",
              "      <th>CNT_CB_MOB_DENSITY</th>\n",
              "      <th>CNT_CB_FN_DENSITY</th>\n",
              "      <th>Mobile_potential</th>\n",
              "      <th>City_coded</th>\n",
              "    </tr>\n",
              "  </thead>\n",
              "  <tbody>\n",
              "    <tr>\n",
              "      <th>11548</th>\n",
              "      <td>Haar</td>\n",
              "      <td>1</td>\n",
              "      <td>4000000.0</td>\n",
              "      <td>42.0</td>\n",
              "      <td>14.0</td>\n",
              "      <td>17</td>\n",
              "      <td>891.0</td>\n",
              "      <td>867.0</td>\n",
              "      <td>62.0</td>\n",
              "      <td>1846.104451</td>\n",
              "      <td>785</td>\n",
              "    </tr>\n",
              "    <tr>\n",
              "      <th>11551</th>\n",
              "      <td>Greding</td>\n",
              "      <td>1</td>\n",
              "      <td>11780000.0</td>\n",
              "      <td>74.0</td>\n",
              "      <td>4.0</td>\n",
              "      <td>53</td>\n",
              "      <td>7.0</td>\n",
              "      <td>7.0</td>\n",
              "      <td>0.0</td>\n",
              "      <td>2083.941040</td>\n",
              "      <td>723</td>\n",
              "    </tr>\n",
              "    <tr>\n",
              "      <th>11553</th>\n",
              "      <td>Dörth</td>\n",
              "      <td>1</td>\n",
              "      <td>2050000.0</td>\n",
              "      <td>43.0</td>\n",
              "      <td>14.0</td>\n",
              "      <td>16</td>\n",
              "      <td>30.0</td>\n",
              "      <td>30.0</td>\n",
              "      <td>1.0</td>\n",
              "      <td>2209.827333</td>\n",
              "      <td>443</td>\n",
              "    </tr>\n",
              "    <tr>\n",
              "      <th>11554</th>\n",
              "      <td>Frankfurt</td>\n",
              "      <td>1</td>\n",
              "      <td>853500.0</td>\n",
              "      <td>63.0</td>\n",
              "      <td>14.0</td>\n",
              "      <td>14</td>\n",
              "      <td>870.0</td>\n",
              "      <td>842.0</td>\n",
              "      <td>77.0</td>\n",
              "      <td>2401.464693</td>\n",
              "      <td>592</td>\n",
              "    </tr>\n",
              "    <tr>\n",
              "      <th>11565</th>\n",
              "      <td>Benningen</td>\n",
              "      <td>1</td>\n",
              "      <td>10680000.0</td>\n",
              "      <td>74.0</td>\n",
              "      <td>4.0</td>\n",
              "      <td>17</td>\n",
              "      <td>319.0</td>\n",
              "      <td>317.0</td>\n",
              "      <td>10.0</td>\n",
              "      <td>2579.765989</td>\n",
              "      <td>205</td>\n",
              "    </tr>\n",
              "  </tbody>\n",
              "</table>\n",
              "</div>\n",
              "      <button class=\"colab-df-convert\" onclick=\"convertToInteractive('df-f3cc6d4d-6327-4a1b-846e-e72d70fd2fbb')\"\n",
              "              title=\"Convert this dataframe to an interactive table.\"\n",
              "              style=\"display:none;\">\n",
              "        \n",
              "  <svg xmlns=\"http://www.w3.org/2000/svg\" height=\"24px\"viewBox=\"0 0 24 24\"\n",
              "       width=\"24px\">\n",
              "    <path d=\"M0 0h24v24H0V0z\" fill=\"none\"/>\n",
              "    <path d=\"M18.56 5.44l.94 2.06.94-2.06 2.06-.94-2.06-.94-.94-2.06-.94 2.06-2.06.94zm-11 1L8.5 8.5l.94-2.06 2.06-.94-2.06-.94L8.5 2.5l-.94 2.06-2.06.94zm10 10l.94 2.06.94-2.06 2.06-.94-2.06-.94-.94-2.06-.94 2.06-2.06.94z\"/><path d=\"M17.41 7.96l-1.37-1.37c-.4-.4-.92-.59-1.43-.59-.52 0-1.04.2-1.43.59L10.3 9.45l-7.72 7.72c-.78.78-.78 2.05 0 2.83L4 21.41c.39.39.9.59 1.41.59.51 0 1.02-.2 1.41-.59l7.78-7.78 2.81-2.81c.8-.78.8-2.07 0-2.86zM5.41 20L4 18.59l7.72-7.72 1.47 1.35L5.41 20z\"/>\n",
              "  </svg>\n",
              "      </button>\n",
              "      \n",
              "  <style>\n",
              "    .colab-df-container {\n",
              "      display:flex;\n",
              "      flex-wrap:wrap;\n",
              "      gap: 12px;\n",
              "    }\n",
              "\n",
              "    .colab-df-convert {\n",
              "      background-color: #E8F0FE;\n",
              "      border: none;\n",
              "      border-radius: 50%;\n",
              "      cursor: pointer;\n",
              "      display: none;\n",
              "      fill: #1967D2;\n",
              "      height: 32px;\n",
              "      padding: 0 0 0 0;\n",
              "      width: 32px;\n",
              "    }\n",
              "\n",
              "    .colab-df-convert:hover {\n",
              "      background-color: #E2EBFA;\n",
              "      box-shadow: 0px 1px 2px rgba(60, 64, 67, 0.3), 0px 1px 3px 1px rgba(60, 64, 67, 0.15);\n",
              "      fill: #174EA6;\n",
              "    }\n",
              "\n",
              "    [theme=dark] .colab-df-convert {\n",
              "      background-color: #3B4455;\n",
              "      fill: #D2E3FC;\n",
              "    }\n",
              "\n",
              "    [theme=dark] .colab-df-convert:hover {\n",
              "      background-color: #434B5C;\n",
              "      box-shadow: 0px 1px 3px 1px rgba(0, 0, 0, 0.15);\n",
              "      filter: drop-shadow(0px 1px 2px rgba(0, 0, 0, 0.3));\n",
              "      fill: #FFFFFF;\n",
              "    }\n",
              "  </style>\n",
              "\n",
              "      <script>\n",
              "        const buttonEl =\n",
              "          document.querySelector('#df-f3cc6d4d-6327-4a1b-846e-e72d70fd2fbb button.colab-df-convert');\n",
              "        buttonEl.style.display =\n",
              "          google.colab.kernel.accessAllowed ? 'block' : 'none';\n",
              "\n",
              "        async function convertToInteractive(key) {\n",
              "          const element = document.querySelector('#df-f3cc6d4d-6327-4a1b-846e-e72d70fd2fbb');\n",
              "          const dataTable =\n",
              "            await google.colab.kernel.invokeFunction('convertToInteractive',\n",
              "                                                     [key], {});\n",
              "          if (!dataTable) return;\n",
              "\n",
              "          const docLinkHtml = 'Like what you see? Visit the ' +\n",
              "            '<a target=\"_blank\" href=https://colab.research.google.com/notebooks/data_table.ipynb>data table notebook</a>'\n",
              "            + ' to learn more about interactive tables.';\n",
              "          element.innerHTML = '';\n",
              "          dataTable['output_type'] = 'display_data';\n",
              "          await google.colab.output.renderOutput(dataTable, element);\n",
              "          const docLink = document.createElement('div');\n",
              "          docLink.innerHTML = docLinkHtml;\n",
              "          element.appendChild(docLink);\n",
              "        }\n",
              "      </script>\n",
              "    </div>\n",
              "  </div>\n",
              "  "
            ],
            "text/plain": [
              "            City  Customer_Flag     Revenue  Sector  Legal_Form_Code  \\\n",
              "11548       Haar              1   4000000.0    42.0             14.0   \n",
              "11551    Greding              1  11780000.0    74.0              4.0   \n",
              "11553      Dörth              1   2050000.0    43.0             14.0   \n",
              "11554  Frankfurt              1    853500.0    63.0             14.0   \n",
              "11565  Benningen              1  10680000.0    74.0              4.0   \n",
              "\n",
              "       CNT_EMPLOYEE  CNT_CB_DENSITY  CNT_CB_MOB_DENSITY  CNT_CB_FN_DENSITY  \\\n",
              "11548            17           891.0               867.0               62.0   \n",
              "11551            53             7.0                 7.0                0.0   \n",
              "11553            16            30.0                30.0                1.0   \n",
              "11554            14           870.0               842.0               77.0   \n",
              "11565            17           319.0               317.0               10.0   \n",
              "\n",
              "       Mobile_potential  City_coded  \n",
              "11548       1846.104451         785  \n",
              "11551       2083.941040         723  \n",
              "11553       2209.827333         443  \n",
              "11554       2401.464693         592  \n",
              "11565       2579.765989         205  "
            ]
          },
          "execution_count": 65,
          "metadata": {},
          "output_type": "execute_result"
        }
      ],
      "source": [
        "City_Categ=customer_dt['City'].append(noncustomer_dt['City'])\n",
        "city_encoder=LabelEncoder()\n",
        "city_encoder.fit(City_Categ.values)\n",
        "customer_dt['City_coded']=city_encoder.transform(customer_dt['City'].values)\n",
        "noncustomer_dt['City_coded']=city_encoder.transform(noncustomer_dt['City'].values)\n",
        "customer_dt.head()"
      ]
    },
    {
      "cell_type": "markdown",
      "metadata": {
        "id": "i5BjRBWgKLh7"
      },
      "source": [
        "[**EX5**] [**CODE**] Finally before entering in the training stage,  let's create a `final_dataset` that is the result of stacking `customer_dt`and `noncustomer_dt`considering the following variables: `City_coded`, `Revenue`, `Sector`, `Legal_Form_Code`, `CNT_EMPLOYEE`, `CNT_CB_DENSITY`, `CNT_CB_MOB_DENSITY`, `CNT_CB_FN_DENSITY`and `Mobile_potential`. The 'final_dataset' should include a new variable, `Target`, that takes value **0** for noncustomers and **1** for customers registers. The `Target` will distiguish the two classes to train the model."
      ]
    },
    {
      "cell_type": "markdown",
      "metadata": {
        "id": "yKmKSuHlKLh-"
      },
      "source": [
        "The output should look like this:"
      ]
    },
    {
      "cell_type": "code",
      "execution_count": 66,
      "metadata": {
        "colab": {
          "base_uri": "https://localhost:8080/",
          "height": 545
        },
        "id": "WuSTt2D5XDtU",
        "outputId": "af7e4d37-09c9-49b4-864a-3bd3ea7e174f"
      },
      "outputs": [
        {
          "name": "stdout",
          "output_type": "stream",
          "text": [
            "<class 'pandas.core.frame.DataFrame'>\n",
            "RangeIndex: 5865 entries, 0 to 5864\n",
            "Data columns (total 10 columns):\n",
            " #   Column              Non-Null Count  Dtype  \n",
            "---  ------              --------------  -----  \n",
            " 0   City_coded          5865 non-null   int64  \n",
            " 1   Revenue             5865 non-null   float64\n",
            " 2   Sector              5865 non-null   float64\n",
            " 3   Legal_Form_Code     5865 non-null   float64\n",
            " 4   CNT_EMPLOYEE        5865 non-null   int64  \n",
            " 5   CNT_CB_DENSITY      5865 non-null   float64\n",
            " 6   CNT_CB_MOB_DENSITY  5865 non-null   float64\n",
            " 7   CNT_CB_FN_DENSITY   5865 non-null   float64\n",
            " 8   Mobile_potential    5865 non-null   float64\n",
            " 9   Target              5865 non-null   int64  \n",
            "dtypes: float64(7), int64(3)\n",
            "memory usage: 458.3 KB\n"
          ]
        },
        {
          "data": {
            "text/html": [
              "\n",
              "  <div id=\"df-971a8d7f-80af-4977-8772-b5229928203f\">\n",
              "    <div class=\"colab-df-container\">\n",
              "      <div>\n",
              "<style scoped>\n",
              "    .dataframe tbody tr th:only-of-type {\n",
              "        vertical-align: middle;\n",
              "    }\n",
              "\n",
              "    .dataframe tbody tr th {\n",
              "        vertical-align: top;\n",
              "    }\n",
              "\n",
              "    .dataframe thead th {\n",
              "        text-align: right;\n",
              "    }\n",
              "</style>\n",
              "<table border=\"1\" class=\"dataframe\">\n",
              "  <thead>\n",
              "    <tr style=\"text-align: right;\">\n",
              "      <th></th>\n",
              "      <th>City_coded</th>\n",
              "      <th>Revenue</th>\n",
              "      <th>Sector</th>\n",
              "      <th>Legal_Form_Code</th>\n",
              "      <th>CNT_EMPLOYEE</th>\n",
              "      <th>CNT_CB_DENSITY</th>\n",
              "      <th>CNT_CB_MOB_DENSITY</th>\n",
              "      <th>CNT_CB_FN_DENSITY</th>\n",
              "      <th>Mobile_potential</th>\n",
              "      <th>Target</th>\n",
              "    </tr>\n",
              "  </thead>\n",
              "  <tbody>\n",
              "    <tr>\n",
              "      <th>0</th>\n",
              "      <td>785</td>\n",
              "      <td>4000000.0</td>\n",
              "      <td>42.0</td>\n",
              "      <td>14.0</td>\n",
              "      <td>17</td>\n",
              "      <td>891.0</td>\n",
              "      <td>867.0</td>\n",
              "      <td>62.0</td>\n",
              "      <td>1846.104451</td>\n",
              "      <td>1</td>\n",
              "    </tr>\n",
              "    <tr>\n",
              "      <th>1</th>\n",
              "      <td>723</td>\n",
              "      <td>11780000.0</td>\n",
              "      <td>74.0</td>\n",
              "      <td>4.0</td>\n",
              "      <td>53</td>\n",
              "      <td>7.0</td>\n",
              "      <td>7.0</td>\n",
              "      <td>0.0</td>\n",
              "      <td>2083.941040</td>\n",
              "      <td>1</td>\n",
              "    </tr>\n",
              "    <tr>\n",
              "      <th>2</th>\n",
              "      <td>443</td>\n",
              "      <td>2050000.0</td>\n",
              "      <td>43.0</td>\n",
              "      <td>14.0</td>\n",
              "      <td>16</td>\n",
              "      <td>30.0</td>\n",
              "      <td>30.0</td>\n",
              "      <td>1.0</td>\n",
              "      <td>2209.827333</td>\n",
              "      <td>1</td>\n",
              "    </tr>\n",
              "    <tr>\n",
              "      <th>3</th>\n",
              "      <td>592</td>\n",
              "      <td>853500.0</td>\n",
              "      <td>63.0</td>\n",
              "      <td>14.0</td>\n",
              "      <td>14</td>\n",
              "      <td>870.0</td>\n",
              "      <td>842.0</td>\n",
              "      <td>77.0</td>\n",
              "      <td>2401.464693</td>\n",
              "      <td>1</td>\n",
              "    </tr>\n",
              "    <tr>\n",
              "      <th>4</th>\n",
              "      <td>205</td>\n",
              "      <td>10680000.0</td>\n",
              "      <td>74.0</td>\n",
              "      <td>4.0</td>\n",
              "      <td>17</td>\n",
              "      <td>319.0</td>\n",
              "      <td>317.0</td>\n",
              "      <td>10.0</td>\n",
              "      <td>2579.765989</td>\n",
              "      <td>1</td>\n",
              "    </tr>\n",
              "  </tbody>\n",
              "</table>\n",
              "</div>\n",
              "      <button class=\"colab-df-convert\" onclick=\"convertToInteractive('df-971a8d7f-80af-4977-8772-b5229928203f')\"\n",
              "              title=\"Convert this dataframe to an interactive table.\"\n",
              "              style=\"display:none;\">\n",
              "        \n",
              "  <svg xmlns=\"http://www.w3.org/2000/svg\" height=\"24px\"viewBox=\"0 0 24 24\"\n",
              "       width=\"24px\">\n",
              "    <path d=\"M0 0h24v24H0V0z\" fill=\"none\"/>\n",
              "    <path d=\"M18.56 5.44l.94 2.06.94-2.06 2.06-.94-2.06-.94-.94-2.06-.94 2.06-2.06.94zm-11 1L8.5 8.5l.94-2.06 2.06-.94-2.06-.94L8.5 2.5l-.94 2.06-2.06.94zm10 10l.94 2.06.94-2.06 2.06-.94-2.06-.94-.94-2.06-.94 2.06-2.06.94z\"/><path d=\"M17.41 7.96l-1.37-1.37c-.4-.4-.92-.59-1.43-.59-.52 0-1.04.2-1.43.59L10.3 9.45l-7.72 7.72c-.78.78-.78 2.05 0 2.83L4 21.41c.39.39.9.59 1.41.59.51 0 1.02-.2 1.41-.59l7.78-7.78 2.81-2.81c.8-.78.8-2.07 0-2.86zM5.41 20L4 18.59l7.72-7.72 1.47 1.35L5.41 20z\"/>\n",
              "  </svg>\n",
              "      </button>\n",
              "      \n",
              "  <style>\n",
              "    .colab-df-container {\n",
              "      display:flex;\n",
              "      flex-wrap:wrap;\n",
              "      gap: 12px;\n",
              "    }\n",
              "\n",
              "    .colab-df-convert {\n",
              "      background-color: #E8F0FE;\n",
              "      border: none;\n",
              "      border-radius: 50%;\n",
              "      cursor: pointer;\n",
              "      display: none;\n",
              "      fill: #1967D2;\n",
              "      height: 32px;\n",
              "      padding: 0 0 0 0;\n",
              "      width: 32px;\n",
              "    }\n",
              "\n",
              "    .colab-df-convert:hover {\n",
              "      background-color: #E2EBFA;\n",
              "      box-shadow: 0px 1px 2px rgba(60, 64, 67, 0.3), 0px 1px 3px 1px rgba(60, 64, 67, 0.15);\n",
              "      fill: #174EA6;\n",
              "    }\n",
              "\n",
              "    [theme=dark] .colab-df-convert {\n",
              "      background-color: #3B4455;\n",
              "      fill: #D2E3FC;\n",
              "    }\n",
              "\n",
              "    [theme=dark] .colab-df-convert:hover {\n",
              "      background-color: #434B5C;\n",
              "      box-shadow: 0px 1px 3px 1px rgba(0, 0, 0, 0.15);\n",
              "      filter: drop-shadow(0px 1px 2px rgba(0, 0, 0, 0.3));\n",
              "      fill: #FFFFFF;\n",
              "    }\n",
              "  </style>\n",
              "\n",
              "      <script>\n",
              "        const buttonEl =\n",
              "          document.querySelector('#df-971a8d7f-80af-4977-8772-b5229928203f button.colab-df-convert');\n",
              "        buttonEl.style.display =\n",
              "          google.colab.kernel.accessAllowed ? 'block' : 'none';\n",
              "\n",
              "        async function convertToInteractive(key) {\n",
              "          const element = document.querySelector('#df-971a8d7f-80af-4977-8772-b5229928203f');\n",
              "          const dataTable =\n",
              "            await google.colab.kernel.invokeFunction('convertToInteractive',\n",
              "                                                     [key], {});\n",
              "          if (!dataTable) return;\n",
              "\n",
              "          const docLinkHtml = 'Like what you see? Visit the ' +\n",
              "            '<a target=\"_blank\" href=https://colab.research.google.com/notebooks/data_table.ipynb>data table notebook</a>'\n",
              "            + ' to learn more about interactive tables.';\n",
              "          element.innerHTML = '';\n",
              "          dataTable['output_type'] = 'display_data';\n",
              "          await google.colab.output.renderOutput(dataTable, element);\n",
              "          const docLink = document.createElement('div');\n",
              "          docLink.innerHTML = docLinkHtml;\n",
              "          element.appendChild(docLink);\n",
              "        }\n",
              "      </script>\n",
              "    </div>\n",
              "  </div>\n",
              "  "
            ],
            "text/plain": [
              "   City_coded     Revenue  Sector  Legal_Form_Code  CNT_EMPLOYEE  \\\n",
              "0         785   4000000.0    42.0             14.0            17   \n",
              "1         723  11780000.0    74.0              4.0            53   \n",
              "2         443   2050000.0    43.0             14.0            16   \n",
              "3         592    853500.0    63.0             14.0            14   \n",
              "4         205  10680000.0    74.0              4.0            17   \n",
              "\n",
              "   CNT_CB_DENSITY  CNT_CB_MOB_DENSITY  CNT_CB_FN_DENSITY  Mobile_potential  \\\n",
              "0           891.0               867.0               62.0       1846.104451   \n",
              "1             7.0                 7.0                0.0       2083.941040   \n",
              "2            30.0                30.0                1.0       2209.827333   \n",
              "3           870.0               842.0               77.0       2401.464693   \n",
              "4           319.0               317.0               10.0       2579.765989   \n",
              "\n",
              "   Target  \n",
              "0       1  \n",
              "1       1  \n",
              "2       1  \n",
              "3       1  \n",
              "4       1  "
            ]
          },
          "execution_count": 66,
          "metadata": {},
          "output_type": "execute_result"
        }
      ],
      "source": [
        "final_dataset=customer_dt.append(noncustomer_dt)\n",
        "final_dataset=final_dataset.drop(columns=['City'])\n",
        "final_dataset=final_dataset.reindex(columns = ['City_coded', 'Revenue', 'Sector','Legal_Form_Code', 'CNT_EMPLOYEE','CNT_CB_DENSITY', 'CNT_CB_MOB_DENSITY', 'CNT_CB_FN_DENSITY','Mobile_potential', 'Customer_Flag'])\n",
        "final_dataset.rename(columns = {'Customer_Flag':'Target'}, inplace = True)\n",
        "size = len(final_dataset['City_coded'])\n",
        "\n",
        "# Exchanging Customer_Flag == 1 for Target == 0 and vice versa\n",
        "final_dataset.loc[final_dataset.Target == 1, \"Target\"] = 2 #  Auxiliar change \n",
        "final_dataset.loc[final_dataset.Target == 0, \"Target\"] = 0 # Non-customers do not become targets\n",
        "final_dataset.loc[final_dataset.Target == 2, \"Target\"] = 1 # Customers become targets \n",
        "\n",
        "\n",
        "final_dataset.reset_index(drop=True, inplace=True) # Reseting index of the dataset\n",
        "final_dataset.info()\n",
        "final_dataset.head()"
      ]
    },
    {
      "cell_type": "code",
      "execution_count": 67,
      "metadata": {
        "colab": {
          "base_uri": "https://localhost:8080/",
          "height": 250
        },
        "id": "W-GzEfLiaFvK",
        "outputId": "7c5fdbaf-af11-432b-8668-0a6b846a198a"
      },
      "outputs": [
        {
          "data": {
            "text/html": [
              "\n",
              "  <div id=\"df-31d2a97a-24ff-4ba5-9725-e075b73ae55c\">\n",
              "    <div class=\"colab-df-container\">\n",
              "      <div>\n",
              "<style scoped>\n",
              "    .dataframe tbody tr th:only-of-type {\n",
              "        vertical-align: middle;\n",
              "    }\n",
              "\n",
              "    .dataframe tbody tr th {\n",
              "        vertical-align: top;\n",
              "    }\n",
              "\n",
              "    .dataframe thead th {\n",
              "        text-align: right;\n",
              "    }\n",
              "</style>\n",
              "<table border=\"1\" class=\"dataframe\">\n",
              "  <thead>\n",
              "    <tr style=\"text-align: right;\">\n",
              "      <th></th>\n",
              "      <th>City_coded</th>\n",
              "      <th>Revenue</th>\n",
              "      <th>Sector</th>\n",
              "      <th>Legal_Form_Code</th>\n",
              "      <th>CNT_EMPLOYEE</th>\n",
              "      <th>CNT_CB_DENSITY</th>\n",
              "      <th>CNT_CB_MOB_DENSITY</th>\n",
              "      <th>CNT_CB_FN_DENSITY</th>\n",
              "      <th>Mobile_potential</th>\n",
              "      <th>Target</th>\n",
              "    </tr>\n",
              "  </thead>\n",
              "  <tbody>\n",
              "    <tr>\n",
              "      <th>5860</th>\n",
              "      <td>734</td>\n",
              "      <td>6391606.0</td>\n",
              "      <td>60.0</td>\n",
              "      <td>20.0</td>\n",
              "      <td>24</td>\n",
              "      <td>57.0</td>\n",
              "      <td>57.0</td>\n",
              "      <td>0.0</td>\n",
              "      <td>2102.700888</td>\n",
              "      <td>0</td>\n",
              "    </tr>\n",
              "    <tr>\n",
              "      <th>5861</th>\n",
              "      <td>1867</td>\n",
              "      <td>305000.0</td>\n",
              "      <td>60.0</td>\n",
              "      <td>4.0</td>\n",
              "      <td>13</td>\n",
              "      <td>9.0</td>\n",
              "      <td>9.0</td>\n",
              "      <td>0.0</td>\n",
              "      <td>1548.889725</td>\n",
              "      <td>0</td>\n",
              "    </tr>\n",
              "    <tr>\n",
              "      <th>5862</th>\n",
              "      <td>596</td>\n",
              "      <td>4200000.0</td>\n",
              "      <td>23.0</td>\n",
              "      <td>14.0</td>\n",
              "      <td>54</td>\n",
              "      <td>62.0</td>\n",
              "      <td>62.0</td>\n",
              "      <td>6.0</td>\n",
              "      <td>2388.407248</td>\n",
              "      <td>0</td>\n",
              "    </tr>\n",
              "    <tr>\n",
              "      <th>5863</th>\n",
              "      <td>1913</td>\n",
              "      <td>1336495.0</td>\n",
              "      <td>60.0</td>\n",
              "      <td>16.0</td>\n",
              "      <td>20</td>\n",
              "      <td>63.0</td>\n",
              "      <td>61.0</td>\n",
              "      <td>2.0</td>\n",
              "      <td>2657.602909</td>\n",
              "      <td>0</td>\n",
              "    </tr>\n",
              "    <tr>\n",
              "      <th>5864</th>\n",
              "      <td>982</td>\n",
              "      <td>4593054.0</td>\n",
              "      <td>64.0</td>\n",
              "      <td>14.0</td>\n",
              "      <td>44</td>\n",
              "      <td>90.0</td>\n",
              "      <td>90.0</td>\n",
              "      <td>5.0</td>\n",
              "      <td>2126.540797</td>\n",
              "      <td>0</td>\n",
              "    </tr>\n",
              "  </tbody>\n",
              "</table>\n",
              "</div>\n",
              "      <button class=\"colab-df-convert\" onclick=\"convertToInteractive('df-31d2a97a-24ff-4ba5-9725-e075b73ae55c')\"\n",
              "              title=\"Convert this dataframe to an interactive table.\"\n",
              "              style=\"display:none;\">\n",
              "        \n",
              "  <svg xmlns=\"http://www.w3.org/2000/svg\" height=\"24px\"viewBox=\"0 0 24 24\"\n",
              "       width=\"24px\">\n",
              "    <path d=\"M0 0h24v24H0V0z\" fill=\"none\"/>\n",
              "    <path d=\"M18.56 5.44l.94 2.06.94-2.06 2.06-.94-2.06-.94-.94-2.06-.94 2.06-2.06.94zm-11 1L8.5 8.5l.94-2.06 2.06-.94-2.06-.94L8.5 2.5l-.94 2.06-2.06.94zm10 10l.94 2.06.94-2.06 2.06-.94-2.06-.94-.94-2.06-.94 2.06-2.06.94z\"/><path d=\"M17.41 7.96l-1.37-1.37c-.4-.4-.92-.59-1.43-.59-.52 0-1.04.2-1.43.59L10.3 9.45l-7.72 7.72c-.78.78-.78 2.05 0 2.83L4 21.41c.39.39.9.59 1.41.59.51 0 1.02-.2 1.41-.59l7.78-7.78 2.81-2.81c.8-.78.8-2.07 0-2.86zM5.41 20L4 18.59l7.72-7.72 1.47 1.35L5.41 20z\"/>\n",
              "  </svg>\n",
              "      </button>\n",
              "      \n",
              "  <style>\n",
              "    .colab-df-container {\n",
              "      display:flex;\n",
              "      flex-wrap:wrap;\n",
              "      gap: 12px;\n",
              "    }\n",
              "\n",
              "    .colab-df-convert {\n",
              "      background-color: #E8F0FE;\n",
              "      border: none;\n",
              "      border-radius: 50%;\n",
              "      cursor: pointer;\n",
              "      display: none;\n",
              "      fill: #1967D2;\n",
              "      height: 32px;\n",
              "      padding: 0 0 0 0;\n",
              "      width: 32px;\n",
              "    }\n",
              "\n",
              "    .colab-df-convert:hover {\n",
              "      background-color: #E2EBFA;\n",
              "      box-shadow: 0px 1px 2px rgba(60, 64, 67, 0.3), 0px 1px 3px 1px rgba(60, 64, 67, 0.15);\n",
              "      fill: #174EA6;\n",
              "    }\n",
              "\n",
              "    [theme=dark] .colab-df-convert {\n",
              "      background-color: #3B4455;\n",
              "      fill: #D2E3FC;\n",
              "    }\n",
              "\n",
              "    [theme=dark] .colab-df-convert:hover {\n",
              "      background-color: #434B5C;\n",
              "      box-shadow: 0px 1px 3px 1px rgba(0, 0, 0, 0.15);\n",
              "      filter: drop-shadow(0px 1px 2px rgba(0, 0, 0, 0.3));\n",
              "      fill: #FFFFFF;\n",
              "    }\n",
              "  </style>\n",
              "\n",
              "      <script>\n",
              "        const buttonEl =\n",
              "          document.querySelector('#df-31d2a97a-24ff-4ba5-9725-e075b73ae55c button.colab-df-convert');\n",
              "        buttonEl.style.display =\n",
              "          google.colab.kernel.accessAllowed ? 'block' : 'none';\n",
              "\n",
              "        async function convertToInteractive(key) {\n",
              "          const element = document.querySelector('#df-31d2a97a-24ff-4ba5-9725-e075b73ae55c');\n",
              "          const dataTable =\n",
              "            await google.colab.kernel.invokeFunction('convertToInteractive',\n",
              "                                                     [key], {});\n",
              "          if (!dataTable) return;\n",
              "\n",
              "          const docLinkHtml = 'Like what you see? Visit the ' +\n",
              "            '<a target=\"_blank\" href=https://colab.research.google.com/notebooks/data_table.ipynb>data table notebook</a>'\n",
              "            + ' to learn more about interactive tables.';\n",
              "          element.innerHTML = '';\n",
              "          dataTable['output_type'] = 'display_data';\n",
              "          await google.colab.output.renderOutput(dataTable, element);\n",
              "          const docLink = document.createElement('div');\n",
              "          docLink.innerHTML = docLinkHtml;\n",
              "          element.appendChild(docLink);\n",
              "        }\n",
              "      </script>\n",
              "    </div>\n",
              "  </div>\n",
              "  "
            ],
            "text/plain": [
              "      City_coded    Revenue  Sector  Legal_Form_Code  CNT_EMPLOYEE  \\\n",
              "5860         734  6391606.0    60.0             20.0            24   \n",
              "5861        1867   305000.0    60.0              4.0            13   \n",
              "5862         596  4200000.0    23.0             14.0            54   \n",
              "5863        1913  1336495.0    60.0             16.0            20   \n",
              "5864         982  4593054.0    64.0             14.0            44   \n",
              "\n",
              "      CNT_CB_DENSITY  CNT_CB_MOB_DENSITY  CNT_CB_FN_DENSITY  Mobile_potential  \\\n",
              "5860            57.0                57.0                0.0       2102.700888   \n",
              "5861             9.0                 9.0                0.0       1548.889725   \n",
              "5862            62.0                62.0                6.0       2388.407248   \n",
              "5863            63.0                61.0                2.0       2657.602909   \n",
              "5864            90.0                90.0                5.0       2126.540797   \n",
              "\n",
              "      Target  \n",
              "5860       0  \n",
              "5861       0  \n",
              "5862       0  \n",
              "5863       0  \n",
              "5864       0  "
            ]
          },
          "execution_count": 67,
          "metadata": {},
          "output_type": "execute_result"
        }
      ],
      "source": [
        "final_dataset.tail()"
      ]
    },
    {
      "cell_type": "markdown",
      "metadata": {
        "id": "riT4OdRHKLiD"
      },
      "source": [
        "To measure the quality of our classifiers, it is necessary to train and test the models with different datasets. For this objective we will use [train_test_split](https://scikit-learn.org/stable/modules/generated/sklearn.model_selection.train_test_split.html) function to generate 4 new datasets: 2 for training and 2 for test: \n",
        "- `X_train`: contains all variables except `Target` for the 80% of `final_dataset`,\n",
        "- `y_train`: contains `Target`variables for the 80% of `final_dataset`, \n",
        "- `X_test`: contains all variables except `Target` for the 20% of `final_dataset`,\n",
        "- `y_test`: contains `Target`variables for the 20% of `final_dataset`."
      ]
    },
    {
      "cell_type": "code",
      "execution_count": 68,
      "metadata": {
        "id": "53-vr7DKKLiD"
      },
      "outputs": [],
      "source": [
        "X_train, X_test, y_train, y_test= train_test_split (final_dataset.iloc[:,:-1], final_dataset.iloc[:,-1], test_size=0.2, random_state=42) "
      ]
    },
    {
      "cell_type": "markdown",
      "metadata": {
        "id": "n-pLvA3EKLiJ"
      },
      "source": [
        "[**EX6**] [**REPORT**] Calculate the lenght of `X_train` and `X_test` datasets. Is it aligned with the `test_size`value selected in the split?"
      ]
    },
    {
      "cell_type": "code",
      "execution_count": 69,
      "metadata": {
        "colab": {
          "base_uri": "https://localhost:8080/"
        },
        "id": "MKlMbI4nfX7m",
        "outputId": "c902fc32-d68e-4e05-b195-8df3585fd94a"
      },
      "outputs": [
        {
          "name": "stdout",
          "output_type": "stream",
          "text": [
            "Size X_train: 80.0%, Size X_test: 20.0%.\n",
            "\n"
          ]
        }
      ],
      "source": [
        "print(\"Size X_train: {}%, Size X_test: {}%.\\n\".format(round(len(X_train['City_coded'])/len(final_dataset['City_coded'])*100,2),round(len(X_test['City_coded'])/len(final_dataset['City_coded'])*100,2)))"
      ]
    },
    {
      "cell_type": "markdown",
      "metadata": {
        "id": "0Doge9L_KLiM"
      },
      "source": [
        "[**EX7**] [**REPORT**] Draw the histograms of `y_train`and `y_test`. Is the dataset balanced (similar number of rows for each class or Target) or imbalanced ? How do you think it could affect to quality of the classifier?"
      ]
    },
    {
      "cell_type": "code",
      "execution_count": 70,
      "metadata": {
        "colab": {
          "base_uri": "https://localhost:8080/",
          "height": 295
        },
        "id": "aaOwNma6hNqk",
        "outputId": "1e27348a-669a-4e04-8d33-1105d4a03699"
      },
      "outputs": [
        {
          "data": {
            "image/png": "[encoded data removed]",
            "text/plain": [
              "<Figure size 432x288 with 1 Axes>"
            ]
          },
          "metadata": {
            "needs_background": "light"
          },
          "output_type": "display_data"
        }
      ],
      "source": [
        "plt.hist(y_train, color = 'red', label='Y Train dataset')\n",
        "plt.hist(y_test, color = 'blue', label='Y Test dataset')\n",
        "plt.xlabel(\"Target values {0,1}\")\n",
        "plt.ylabel(\"Instances\")\n",
        "plt.legend()\n",
        "plt.title(label = 'Histogram of Y Datasets')\n",
        "\n",
        "pyplot.show()"
      ]
    },
    {
      "cell_type": "markdown",
      "metadata": {
        "id": "pVofh0d-KLiT"
      },
      "source": [
        "# 2. Model Training: from baseline models to ensemble¶"
      ]
    },
    {
      "cell_type": "markdown",
      "metadata": {
        "id": "P58EvGU1KLiT"
      },
      "source": [
        "Now we are ready to enter in the training stage of the machine learning models. The common way to procedure is starting with baseline models (i.e. SVM, Decision Trees, Naive Bayes, etc....) and later, try to improve it adjusting hyperparameters of the models or creating more complex models architectures as ensembles."
      ]
    },
    {
      "cell_type": "markdown",
      "metadata": {
        "id": "hKyfjGlmKLiU"
      },
      "source": [
        "## 2.1. Baseline of models: Training and evaluation"
      ]
    },
    {
      "cell_type": "markdown",
      "metadata": {
        "id": "eWN0sijJKLiU"
      },
      "source": [
        "In the following section we are training a SVM, Decision Tree and Naive Bayes algorithms. To do it, we will use the `X_train`and `y_train`datasets.\n",
        "Later on we will evaluate the performance (i.e. **accuracy**, **confusion matrix**, **recall** and **precision**) of each model with the `test`dataset, i.e. `X_test`and `y_test`.\n",
        "\n",
        "\n",
        "Tip 1: You may use [classification_report()](https://scikit-learn.org/stable/modules/generated/sklearn.metrics.classification_report.html) from Sklearn library to calculate the **precision**, **recall** of the model.\n",
        "\n",
        "Tip 2: You may use [confusion_matrix()](https://scikit-learn.org/stable/modules/generated/sklearn.metrics.confusion_matrix.html) from Sklearn library to calculate the confusion matrix of a model.\n",
        "\n",
        "Tip 3: When using Sklearn library, you may use the function **.score(X_test, y_test)** to calculate the accuracy value."
      ]
    },
    {
      "cell_type": "markdown",
      "metadata": {
        "id": "2zQCoC5JKLiV"
      },
      "source": [
        "### Classification with a SVM model"
      ]
    },
    {
      "cell_type": "markdown",
      "metadata": {
        "id": "VnWGf-D6KLiV"
      },
      "source": [
        "[**EX8**] [**CODE**] Train the SVM classifier of the Sklearn library. Evaluate the following metrics for kernel=\"rbf\":\n",
        "- Which is **precision**, **recall** and **accuracy** of the algorithm?\n",
        "- Which is the **confusion matrix**?\n",
        "- Is the algorithm classifying both classes (Target=0 and Target=1) in a similar way? Why?\n",
        "- Compare the **precision** and **recall** of the **training** dataset (i.e.`X_train`and `y_train`) vs the **test** dataset (i.e. `X_test`and `y_test`). Which is better? Why? Which is the correct measure to estimate the performance for other unseen datasets? Why?"
      ]
    },
    {
      "cell_type": "code",
      "execution_count": 71,
      "metadata": {
        "colab": {
          "base_uri": "https://localhost:8080/"
        },
        "id": "ujSQCJnTlm8t",
        "outputId": "bcf0cadc-6e0b-4e06-fc21-e9414d56eded"
      },
      "outputs": [
        {
          "name": "stdout",
          "output_type": "stream",
          "text": [
            "Accuracy: 0.828\n",
            "              precision    recall  f1-score   support\n",
            "\n",
            "           0       0.83      1.00      0.91       968\n",
            "           1       1.00      0.01      0.03       205\n",
            "\n",
            "    accuracy                           0.83      1173\n",
            "   macro avg       0.91      0.51      0.47      1173\n",
            "weighted avg       0.86      0.83      0.75      1173\n",
            "\n",
            "[[968   0]\n",
            " [202   3]]\n",
            "Accuracy: 0.841\n",
            "              precision    recall  f1-score   support\n",
            "\n",
            "           0       0.84      1.00      0.91      3941\n",
            "           1       1.00      0.01      0.02       751\n",
            "\n",
            "    accuracy                           0.84      4692\n",
            "   macro avg       0.92      0.50      0.46      4692\n",
            "weighted avg       0.87      0.84      0.77      4692\n",
            "\n",
            "[[3941    0]\n",
            " [ 745    6]]\n"
          ]
        }
      ],
      "source": [
        "svm = SVC(kernel= 'rbf') # Initialize classifier\n",
        "svm.fit(X_train, y_train) # Fit the data\n",
        "\n",
        "y_pred = svm.predict(X_test) # Test the model\n",
        "print('Accuracy: %.3f' % accuracy_score(y_test, y_pred)) \n",
        "print(classification_report(y_test, y_pred,))\n",
        "print(confusion_matrix(y_test, y_pred))\n",
        "\n",
        "y_pred = svm.predict(X_train) # Test the model\n",
        "print('Accuracy: %.3f' % accuracy_score(y_train, y_pred)) \n",
        "print(classification_report(y_train, y_pred,))\n",
        "print(confusion_matrix(y_train, y_pred))"
      ]
    },
    {
      "cell_type": "markdown",
      "metadata": {
        "id": "CIcRrkYWpyMZ"
      },
      "source": [
        "**[EX]** The algorithm only classifies correctly the class 0 (Target 0) with a recall of 100%, but this is only because it classifies every instance to class 0.\n",
        "As we can see above the global accuracy is higher in the training set (the second one). Also both sets have the same recall and the precision of the second set is slightly better. This is beacause of we used the second set to train the model and then it is normal to fit better in the classifier. The recall of both sets of class 0 is 1 which means that the model has correctly classified every element of class 0 to the class 0 instead, the recall of class 1 is nearly to 0, making this model a bad one despite of the high accuracy. For this reason, we can conclude that the precision of the model is not the only important measure, we can say that to estimate the performance of unseen datasets is more important the recall. Also we can see in the confusion matrix that only few instances of class 1 have been correctly classified."
      ]
    },
    {
      "cell_type": "markdown",
      "metadata": {
        "id": "jBTK-h4cKLiY"
      },
      "source": [
        "### Classification with a Decision Tree model"
      ]
    },
    {
      "cell_type": "markdown",
      "metadata": {
        "id": "DMRkY9uvKLiY"
      },
      "source": [
        "[**EX9**] [**CODE**] Train the Decision Tree algorithm from Sklearn library. Evaluate the following metrics:\n",
        "- Which is **precision**, **recall** and **accuracy** of the algorithm?\n",
        "- Which is the **confusion matrix**?\n",
        "- Is Decision Tree algorithm working better than SVM? Why?"
      ]
    },
    {
      "cell_type": "code",
      "execution_count": 72,
      "metadata": {
        "colab": {
          "base_uri": "https://localhost:8080/"
        },
        "id": "AncHdXATnIrb",
        "outputId": "ce960617-a1c6-4a36-9837-5a1def270592"
      },
      "outputs": [
        {
          "name": "stdout",
          "output_type": "stream",
          "text": [
            "Accuracy: 0.758\n",
            "              precision    recall  f1-score   support\n",
            "\n",
            "           0       0.86      0.84      0.85       968\n",
            "           1       0.33      0.37      0.35       205\n",
            "\n",
            "    accuracy                           0.76      1173\n",
            "   macro avg       0.59      0.60      0.60      1173\n",
            "weighted avg       0.77      0.76      0.76      1173\n",
            "\n",
            "[[814 154]\n",
            " [130  75]]\n"
          ]
        }
      ],
      "source": [
        "dtc = DecisionTreeClassifier() # Initialize classifier\n",
        "dtc.fit(X_train, y_train) # Fit the data\n",
        "\n",
        "y_pred = dtc.predict(X_test) # Test the model\n",
        "print('Accuracy: %.3f' % accuracy_score(y_test, y_pred))\n",
        "print(classification_report(y_test, y_pred,))\n",
        "print(confusion_matrix(y_test, y_pred))"
      ]
    },
    {
      "cell_type": "markdown",
      "metadata": {
        "id": "ORpBHbTCuY1R"
      },
      "source": [
        "**[EX]** Comparing to the previous model, this one at least classifies both classes instead of only one as the SVM did. We can see less recall to the class 0 but a decent recall for class 1, unlike the 1% of the previous one.  "
      ]
    },
    {
      "cell_type": "markdown",
      "metadata": {
        "id": "VxSee22YKLiy"
      },
      "source": [
        "### Comparing algorithm consistenly: KFold cross-validation"
      ]
    },
    {
      "cell_type": "markdown",
      "metadata": {
        "id": "K-n_MHhvKLiz"
      },
      "source": [
        "When we are looking for the best algorithm to classify a dataset, it is very useful to compare all of them. Besides, to protect the training from **overfitting** and calculate the performance with less variance than a single train-test split, it is uselful to apply **K-Fold cross-validation**. The way that KFolds works is splitting the dataset into k-parts or **fold** (e.g. k = 3, 5 or k = 10). The algorithm is trained on k − 1 folds with one held back and tested on the held back fold."
      ]
    },
    {
      "cell_type": "markdown",
      "metadata": {
        "id": "23xG-yXNKLiz"
      },
      "source": [
        "[**EX10**] [**CODE**] Train a SVM and Decision Tree algorithms using a KFold cross-validation with **k=5** and calculate the **mean** and **standard deviation** of the **accuracy**. Plot a boxplot of the accuracy for every model. Which is the model with better mean value of the accuracy? Which is the algorithm with less deviation on the accuracy?  \n",
        "\n",
        "Tip 1: You may use [KFold](https://scikit-learn.org/stable/modules/generated/sklearn.model_selection.KFold.html) to apply cross-validation."
      ]
    },
    {
      "cell_type": "markdown",
      "metadata": {
        "id": "_aEAtktzKLi2"
      },
      "source": [
        "The output of the boxplots should look like this:"
      ]
    },
    {
      "cell_type": "code",
      "execution_count": 73,
      "metadata": {
        "colab": {
          "base_uri": "https://localhost:8080/",
          "height": 329
        },
        "id": "bynq6I3OKLi3",
        "outputId": "ee23f26d-222d-47c0-abc6-70ac5ff5fc92",
        "scrolled": true
      },
      "outputs": [
        {
          "name": "stdout",
          "output_type": "stream",
          "text": [
            "The mean and standard deviation of SVM are: mean = 0.759 and standard deviation = 0.003\n",
            "The mean and standard deviation of Decision Tree are: mean = 0.841 and standard deviation = 0.016\n"
          ]
        },
        {
          "data": {
            "image/png": "[encoded data removed]",
            "text/plain": [
              "<Figure size 432x288 with 1 Axes>"
            ]
          },
          "metadata": {
            "needs_background": "light"
          },
          "output_type": "display_data"
        }
      ],
      "source": [
        "results = []\n",
        "models = {svm,dtc}\n",
        "# Cross validation for each model\n",
        "for model in models:\n",
        "  results.append(cross_val_score(model, X_train, y_train, cv = KFold(n_splits=5), scoring = 'accuracy'))\n",
        "\n",
        "# Computing statistics \n",
        "mean_svm = np.mean(results[0])\n",
        "std_svm = np.std(results[0])\n",
        "mean_dtc = np.mean(results[1])\n",
        "std_dtc = np.std(results[1])\n",
        "print(\"The mean and standard deviation of SVM are: mean = %.3f and standard deviation = %.3f\"%(mean_svm,std_svm))\n",
        "print(\"The mean and standard deviation of Decision Tree are: mean = %.3f and standard deviation = %.3f\"%(mean_dtc,std_dtc))\n",
        "\n",
        "#boxplot for algorithm comparison\n",
        "fig=pyplot.figure()\n",
        "fig.suptitle (\"Algorithm accuracy comparison\")\n",
        "ax=fig.add_subplot(111)\n",
        "pyplot.boxplot(results)\n",
        "names = ['SVM','Decision Trees']\n",
        "ax.set_xticklabels(names)\n",
        "pyplot.show()"
      ]
    },
    {
      "cell_type": "markdown",
      "metadata": {
        "id": "MMmSZStzy0bL"
      },
      "source": [
        "**[EX]** As we can see the model with higher accuracy mean is SVM but Decision Tree has less standard deviation on accuracy."
      ]
    },
    {
      "cell_type": "markdown",
      "metadata": {
        "id": "5h_URjohKLi6"
      },
      "source": [
        "## 2.2 Improving the model"
      ]
    },
    {
      "cell_type": "markdown",
      "metadata": {
        "id": "zDgLSJn_KLi7"
      },
      "source": [
        "As we observe from the baseline models, even though the accuracy is over 70% the classifiers don't distinguish properly both classes, i.e. **Target=1** and **Target=0**.  \n",
        "In this scenario, we should apply another strategies to improve the perfomance. There are several options: from adjusting the balance of the classes or doing the fine tuning of the hyperparameters of the models (for instance the type of kernel in SVM or the minimum number of samples per leaf in Decision Tree) to combine differents models to create ensembles.\n",
        "In this section, we will evaluate our classifiers in two ways:\n",
        "- Forcing the balancing of both classes\n",
        "- Building ensembles of models"
      ]
    },
    {
      "cell_type": "markdown",
      "metadata": {
        "id": "0xGX62GJKLi8"
      },
      "source": [
        "### Balancing the dataset"
      ]
    },
    {
      "cell_type": "markdown",
      "metadata": {
        "id": "7HL7D2DvKLi8"
      },
      "source": [
        "Let's check the type of balancing we have in our training and test datasets."
      ]
    },
    {
      "cell_type": "markdown",
      "metadata": {
        "id": "EV6OfIKgKLi9"
      },
      "source": [
        "[**EX11**][**CODE**] Split the previous `final_dataset`in two datasets: `customer_dt` for class 1 and `noncustomer_dt`for class 0. Calculate the number of samples for the **customers** class (i.e. Target=1) and for the **noncustomers** class (i.e. Target=0). Is the `final_dataset`balanced or imbalanced? Explain two options to match both datasets.\n"
      ]
    },
    {
      "cell_type": "code",
      "execution_count": 74,
      "metadata": {
        "colab": {
          "base_uri": "https://localhost:8080/"
        },
        "id": "25yIMwFQPpN7",
        "outputId": "65490d2c-3415-49c8-9854-ecd24fed5adb"
      },
      "outputs": [
        {
          "name": "stdout",
          "output_type": "stream",
          "text": [
            "<class 'pandas.core.frame.DataFrame'>\n",
            "Int64Index: 956 entries, 0 to 955\n",
            "Data columns (total 10 columns):\n",
            " #   Column              Non-Null Count  Dtype  \n",
            "---  ------              --------------  -----  \n",
            " 0   City_coded          956 non-null    int64  \n",
            " 1   Revenue             956 non-null    float64\n",
            " 2   Sector              956 non-null    float64\n",
            " 3   Legal_Form_Code     956 non-null    float64\n",
            " 4   CNT_EMPLOYEE        956 non-null    int64  \n",
            " 5   CNT_CB_DENSITY      956 non-null    float64\n",
            " 6   CNT_CB_MOB_DENSITY  956 non-null    float64\n",
            " 7   CNT_CB_FN_DENSITY   956 non-null    float64\n",
            " 8   Mobile_potential    956 non-null    float64\n",
            " 9   Target              956 non-null    int64  \n",
            "dtypes: float64(7), int64(3)\n",
            "memory usage: 82.2 KB\n",
            "None\n",
            "<class 'pandas.core.frame.DataFrame'>\n",
            "Int64Index: 4909 entries, 956 to 5864\n",
            "Data columns (total 10 columns):\n",
            " #   Column              Non-Null Count  Dtype  \n",
            "---  ------              --------------  -----  \n",
            " 0   City_coded          4909 non-null   int64  \n",
            " 1   Revenue             4909 non-null   float64\n",
            " 2   Sector              4909 non-null   float64\n",
            " 3   Legal_Form_Code     4909 non-null   float64\n",
            " 4   CNT_EMPLOYEE        4909 non-null   int64  \n",
            " 5   CNT_CB_DENSITY      4909 non-null   float64\n",
            " 6   CNT_CB_MOB_DENSITY  4909 non-null   float64\n",
            " 7   CNT_CB_FN_DENSITY   4909 non-null   float64\n",
            " 8   Mobile_potential    4909 non-null   float64\n",
            " 9   Target              4909 non-null   int64  \n",
            "dtypes: float64(7), int64(3)\n",
            "memory usage: 421.9 KB\n",
            "None\n"
          ]
        }
      ],
      "source": [
        "customer_dt = final_dataset\n",
        "noncustomer_dt = final_dataset\n",
        "\n",
        "# Drop rows where Target == 1 that means it is a non-customer and vice versa\n",
        "customer_dt = customer_dt.drop(customer_dt[customer_dt.Target == 0].index) \n",
        "noncustomer_dt = noncustomer_dt.drop(noncustomer_dt[noncustomer_dt.Target == 1].index)\n",
        "\n",
        "print(customer_dt.info())\n",
        "print(noncustomer_dt.info())"
      ]
    },
    {
      "cell_type": "markdown",
      "metadata": {
        "id": "w9rVOQ5iKLjD"
      },
      "source": [
        "Let's undersample the `noncustomer_dt` to balance both datasets:"
      ]
    },
    {
      "cell_type": "code",
      "execution_count": 75,
      "metadata": {
        "colab": {
          "base_uri": "https://localhost:8080/"
        },
        "id": "8a9L5o8iKLjE",
        "outputId": "f5704c8f-7290-4c38-f487-fefe28732808"
      },
      "outputs": [
        {
          "name": "stdout",
          "output_type": "stream",
          "text": [
            "The new number of samples in noncustomer dataset is: 956\n"
          ]
        }
      ],
      "source": [
        "noncustomer_dt_sample=noncustomer_dt.sample( len(customer_dt))\n",
        "print(\"The new number of samples in noncustomer dataset is:\", len(noncustomer_dt_sample))"
      ]
    },
    {
      "cell_type": "markdown",
      "metadata": {
        "id": "P2l66X4jKLjG"
      },
      "source": [
        "If we append both datasets, the **customer_dt** and the **noncustomer_dt_sample**, the new `final_dataset`looks like:"
      ]
    },
    {
      "cell_type": "code",
      "execution_count": 76,
      "metadata": {
        "colab": {
          "base_uri": "https://localhost:8080/",
          "height": 269
        },
        "id": "C0WTasz3KLjH",
        "outputId": "b0d62423-82f7-47a8-98cc-a2d37a785291"
      },
      "outputs": [
        {
          "data": {
            "image/png": "[encoded data removed]",
            "text/plain": [
              "<Figure size 432x288 with 1 Axes>"
            ]
          },
          "metadata": {
            "needs_background": "light"
          },
          "output_type": "display_data"
        }
      ],
      "source": [
        "final_dataset=customer_dt.append(noncustomer_dt_sample).reset_index().drop('index', axis=1)\n",
        "final_dataset=final_dataset.loc[:,['City_coded', 'Revenue', 'Sector', 'Legal_Form_Code', 'CNT_EMPLOYEE', 'CNT_CB_DENSITY',\n",
        "                            'CNT_CB_MOB_DENSITY', 'CNT_CB_FN_DENSITY', 'Mobile_potential','Target']]\n",
        "final_dataset.Target.hist()\n",
        "pyplot.show()"
      ]
    },
    {
      "cell_type": "markdown",
      "metadata": {
        "id": "2VAw6yN61sEG"
      },
      "source": [
        "**[EX]** As we can see above, customers dataset has 956 entries and noncustomer has 4909 entries due to this, the final dataset is imbalanced. In order to match both datasets we can use the whole customers dataset and only 956 entries of noncustomers dataset (undersample) or repeat entries of customers dataset, but the best option would be obtain more samples if it were posible."
      ]
    },
    {
      "cell_type": "markdown",
      "metadata": {
        "id": "ZQ0HyRiOKLjJ"
      },
      "source": [
        "[**EX12**][**CODE**][**REPORT**] Train a SVC and Decision Tree algorithm with the new `final_dataset`. Evaluate the **recall**, **precision** and **confusion matrix** of all 3 models.\n",
        "- Which has better accuracy?\n",
        "- Which is the model with better recall? And accuracy?\n",
        "- Which model you recommend to classify both classes? Justify your answer"
      ]
    },
    {
      "cell_type": "code",
      "execution_count": 77,
      "metadata": {
        "colab": {
          "base_uri": "https://localhost:8080/"
        },
        "id": "7O6SXmZ7Qgl0",
        "outputId": "d3edd7c8-a407-4d02-de9a-56d5f8d413a9"
      },
      "outputs": [
        {
          "name": "stdout",
          "output_type": "stream",
          "text": [
            "SVM Accuracy: 0.577\n",
            "              precision    recall  f1-score   support\n",
            "\n",
            "           0       0.56      0.62      0.59       187\n",
            "           1       0.60      0.54      0.56       196\n",
            "\n",
            "    accuracy                           0.58       383\n",
            "   macro avg       0.58      0.58      0.58       383\n",
            "weighted avg       0.58      0.58      0.58       383\n",
            "\n",
            "[[116  71]\n",
            " [ 91 105]]\n",
            "Decision Tree Accuracy: 0.574\n",
            "              precision    recall  f1-score   support\n",
            "\n",
            "           0       0.56      0.58      0.57       187\n",
            "           1       0.59      0.57      0.58       196\n",
            "\n",
            "    accuracy                           0.57       383\n",
            "   macro avg       0.57      0.57      0.57       383\n",
            "weighted avg       0.57      0.57      0.57       383\n",
            "\n",
            "[[109  78]\n",
            " [ 85 111]]\n"
          ]
        }
      ],
      "source": [
        "\n",
        "# Create datasets\n",
        "X_train, X_test, y_train, y_test= train_test_split (final_dataset.iloc[:,:-1], final_dataset.iloc[:,-1], test_size=0.2, random_state=42)  \n",
        "\n",
        "# Initialize classifier and fit the data\n",
        "svm = SVC(kernel= 'rbf').fit(X_train, y_train) \n",
        "\n",
        "# Test the model and print the results\n",
        "y_pred = svm.predict(X_test)\n",
        "print('SVM Accuracy: %.3f' % accuracy_score(y_test, y_pred))\n",
        "print(classification_report(y_test, y_pred,))\n",
        "print(confusion_matrix(y_test, y_pred))\n",
        "\n",
        "# Initialize classifier and fit the data\n",
        "dtc = DecisionTreeClassifier().fit(X_train, y_train)\n",
        "\n",
        "# Test the model and print the results\n",
        "y_pred = dtc.predict(X_test)\n",
        "print('Decision Tree Accuracy: %.3f' % accuracy_score(y_test, y_pred))\n",
        "print(classification_report(y_test, y_pred,))\n",
        "print(confusion_matrix(y_test, y_pred))"
      ]
    },
    {
      "cell_type": "markdown",
      "metadata": {
        "id": "So2hzc-BKLjU"
      },
      "source": [
        "### Ensembling models"
      ]
    },
    {
      "cell_type": "markdown",
      "metadata": {
        "id": "7GbOE6CMKLjU"
      },
      "source": [
        "Another mechanism to improve the performance of a classifier is to combine several algorithms. The three most popular methods for combining models are:\n",
        "- Bagging combines multiple models that are trained with different subsamples of the training dataset.\n",
        "- Boosting combines multiple models in cascade and each of them learns to fix the prediction errors of the prior model.\n",
        "- Voting combines statistically the output of several models.\n",
        "\n",
        "Usually Bagging and Boosting are formed by models of the same type meanwhile voting could be formed by different models."
      ]
    },
    {
      "cell_type": "markdown",
      "metadata": {
        "id": "NgkK3L4xKLjV"
      },
      "source": [
        "### Voting ensemble"
      ]
    },
    {
      "cell_type": "markdown",
      "metadata": {
        "id": "24SsOU59KLjW"
      },
      "source": [
        "[**EX13**][**CODE**][**REPORT**] Build a **voting** ensemble formed by a SVM and Decision Tree and train it with the balanced training dataset. Calculate the **precision**, **recall** and **confusion matrix** of the new classifier. Is it better than any of the previous baseline models? Justify your answer.\n",
        "\n",
        "Tip: You may use [VotingClassifier()](https://scikit-learn.org/stable/modules/generated/sklearn.ensemble.VotingClassifier.html) to build this type of ensemble."
      ]
    },
    {
      "cell_type": "code",
      "execution_count": 78,
      "metadata": {
        "colab": {
          "base_uri": "https://localhost:8080/"
        },
        "id": "HnziUsZoebE0",
        "outputId": "27d16404-6645-4b58-dbe6-7fe497a0debd"
      },
      "outputs": [
        {
          "name": "stdout",
          "output_type": "stream",
          "text": [
            "Voting: 0.580\n",
            "              precision    recall  f1-score   support\n",
            "\n",
            "           0       0.55      0.83      0.66       187\n",
            "           1       0.68      0.34      0.45       196\n",
            "\n",
            "    accuracy                           0.58       383\n",
            "   macro avg       0.61      0.59      0.56       383\n",
            "weighted avg       0.61      0.58      0.55       383\n",
            "\n",
            "[[156  31]\n",
            " [130  66]]\n"
          ]
        }
      ],
      "source": [
        "# Initialize the baseline models\n",
        "svm = SVC(kernel= 'rbf')\n",
        "dtc = DecisionTreeClassifier()\n",
        "\n",
        "# Create the ensemble model\n",
        "vc_hard = VotingClassifier(estimators=[('svm', svm), ('dtc', dtc)], voting='hard').fit(X_train, y_train)\n",
        "y_pred_vch = vc_hard.predict(X_test)\n",
        "\n",
        "print('Voting: %.3f' % accuracy_score(y_test, y_pred_vch))\n",
        "print(classification_report(y_test, y_pred_vch,))\n",
        "print(confusion_matrix(y_test, y_pred_vch))"
      ]
    },
    {
      "cell_type": "markdown",
      "metadata": {
        "id": "ocJiGPkJKLjY"
      },
      "source": [
        "### Bagging ensemble: Random Forest"
      ]
    },
    {
      "cell_type": "markdown",
      "metadata": {
        "id": "LQMj5ap5KLjZ"
      },
      "source": [
        "[**EX14**][**CODE**][**REPORT**] Build a **Bagging** ensemble based on Random Forest. Random Forest is considered a bagging ensemble formed by Decision Trees algorithms. Train the Random Forest with the balanced training dataset, i.e. `X_train` and `y_train`. Calculate the **precision**, **recall** and **confusion matrix** of the new classifier. Is it better than any of the previous baseline models? Justify your answer.\n",
        "\n",
        "Tip: You may use [RandomForestClassifier()](https://scikit-learn.org/stable/modules/generated/sklearn.ensemble.RandomForestClassifier.html) to build this type of ensemble."
      ]
    },
    {
      "cell_type": "code",
      "execution_count": 79,
      "metadata": {
        "colab": {
          "base_uri": "https://localhost:8080/"
        },
        "id": "13GidT75glYV",
        "outputId": "a46059db-8896-46a4-caa7-c15d28e8eee8"
      },
      "outputs": [
        {
          "name": "stdout",
          "output_type": "stream",
          "text": [
            "Decision Tree Accuracy: 0.627\n",
            "              precision    recall  f1-score   support\n",
            "\n",
            "           0       0.64      0.55      0.59       187\n",
            "           1       0.62      0.70      0.66       196\n",
            "\n",
            "    accuracy                           0.63       383\n",
            "   macro avg       0.63      0.62      0.62       383\n",
            "weighted avg       0.63      0.63      0.62       383\n",
            "\n",
            "[[102  85]\n",
            " [ 58 138]]\n"
          ]
        }
      ],
      "source": [
        "# Create the ensemble model\n",
        "rfc = RandomForestClassifier(max_depth=2, random_state=0).fit(X_train, y_train)\n",
        "y_pred_rfc = rfc.predict(X_test)\n",
        "\n",
        "print('Decision Tree Accuracy: %.3f' % accuracy_score(y_test, y_pred_rfc))\n",
        "print(classification_report(y_test, y_pred_rfc,))\n",
        "print(confusion_matrix(y_test, y_pred_rfc))"
      ]
    },
    {
      "cell_type": "markdown",
      "metadata": {
        "id": "4G08f_aEKLjd"
      },
      "source": [
        "[**EX15**][**REPORT**] Plot the histograms of the probabilities resulting of the prediction of the Random Forest model for class 0 and class 1."
      ]
    },
    {
      "cell_type": "code",
      "execution_count": 80,
      "metadata": {
        "colab": {
          "base_uri": "https://localhost:8080/",
          "height": 295
        },
        "id": "WWrwAH773Dhy",
        "outputId": "434f8086-6d84-472d-f36f-8675cc08d25a"
      },
      "outputs": [
        {
          "data": {
            "image/png": "[encoded data removed]",
            "text/plain": [
              "<Figure size 432x288 with 1 Axes>"
            ]
          },
          "metadata": {
            "needs_background": "light"
          },
          "output_type": "display_data"
        }
      ],
      "source": [
        "prob = rfc.predict_proba(X_test)\n",
        "plt.hist(prob)\n",
        "plt.xlabel(\"Probability\")\n",
        "plt.ylabel(\"Instances\")\n",
        "plt.title(label = 'Histogram of Predictions of Random Forest model')\n",
        "pyplot.show()\n",
        "# Blue class 0\n",
        "# Orange class 1"
      ]
    },
    {
      "cell_type": "markdown",
      "metadata": {
        "id": "K9Vbyi1lKLjg"
      },
      "source": [
        "### Boosting ensemble: Gradient Tree Boosting"
      ]
    },
    {
      "cell_type": "markdown",
      "metadata": {
        "id": "VTZvSgz8KLji"
      },
      "source": [
        "[**EX16**][**CODE**][**REPORT**] Build a **Boosting** ensemble based on Gradient Tree Boosting (GBT). There are several boosting algorithms as Adaboost, etc.  Train the GBT with the balanced training dataset, i.e. `X_train` and `y_train`. Calculate the **precision**, **recall** and **confusion matrix** of the new classifier. Is it better than any of the previous baseline models? Justify your answer.\n",
        "\n",
        "Tip: You may use [GradientBoostingClassifier](https://scikit-learn.org/stable/modules/generated/sklearn.ensemble.GradientBoostingClassifier.html) to build this type of ensemble."
      ]
    },
    {
      "cell_type": "code",
      "execution_count": 81,
      "metadata": {
        "colab": {
          "base_uri": "https://localhost:8080/"
        },
        "id": "sD_Avqg5h-SF",
        "outputId": "b46ecbd6-0b51-4d96-b29e-34be867f8775"
      },
      "outputs": [
        {
          "name": "stdout",
          "output_type": "stream",
          "text": [
            "Decision Tree Accuracy: 0.627\n",
            "              precision    recall  f1-score   support\n",
            "\n",
            "           0       0.62      0.62      0.62       187\n",
            "           1       0.64      0.63      0.63       196\n",
            "\n",
            "    accuracy                           0.63       383\n",
            "   macro avg       0.63      0.63      0.63       383\n",
            "weighted avg       0.63      0.63      0.63       383\n",
            "\n",
            "[[116  71]\n",
            " [ 72 124]]\n"
          ]
        }
      ],
      "source": [
        "# Create the ensemble model\n",
        "gbt = GradientBoostingClassifier(n_estimators=100, learning_rate=1.0, max_depth=1, random_state=0).fit(X_train, y_train)\n",
        "y_pred_gbt = gbt.predict(X_test)\n",
        "\n",
        "print('Decision Tree Accuracy: %.3f' % accuracy_score(y_test, y_pred_gbt))\n",
        "print(classification_report(y_test, y_pred_gbt,))\n",
        "print(confusion_matrix(y_test, y_pred_gbt))"
      ]
    },
    {
      "cell_type": "markdown",
      "metadata": {
        "id": "KLwM8rn_KLjl"
      },
      "source": [
        "[**EX17**][**REPORT**] Plot the histograms of the probabilities resulting of the prediction of the GBT model for class 0 and class 1. Compare it with histogram of Random Forest. Which one classifies better from your point of view? Why? "
      ]
    },
    {
      "cell_type": "code",
      "execution_count": 82,
      "metadata": {
        "colab": {
          "base_uri": "https://localhost:8080/",
          "height": 295
        },
        "id": "r_nhWrB5iu6i",
        "outputId": "dc6d3752-9148-4de6-acc9-2c7349bab5af"
      },
      "outputs": [
        {
          "data": {
            "image/png": "[encoded data removed]",
            "text/plain": [
              "<Figure size 432x288 with 1 Axes>"
            ]
          },
          "metadata": {
            "needs_background": "light"
          },
          "output_type": "display_data"
        }
      ],
      "source": [
        "prob = gbt.predict_proba(X_test)\n",
        "plt.hist(prob)\n",
        "plt.xlabel(\"Probability\")\n",
        "plt.ylabel(\"Instances\")\n",
        "plt.title(label = 'Histogram of Predictions of Random Forest model')\n",
        "pyplot.show()\n",
        "# Blue class 0\n",
        "# Orange class 1"
      ]
    },
    {
      "cell_type": "markdown",
      "metadata": {
        "id": "UvbS-zysKLjq"
      },
      "source": [
        "# 3. Creating a Business opportunity with Machine Learning"
      ]
    },
    {
      "cell_type": "markdown",
      "metadata": {
        "id": "oYWmrLYQKLjP"
      },
      "source": [
        "The cut-off is the **threshold of the probability of the prediction** to assign to class 0 or class 1 the prediction. If probability > cut-off, the model classifies as 1; otherwise, model classifies as 0. \n",
        "The cut-off is a value that can be adjusted to increase the recall or the precision. Usually, there is a **trade-off** between improving the recall-precision."
      ]
    },
    {
      "cell_type": "markdown",
      "metadata": {
        "id": "XBhZ9VKgKLjq"
      },
      "source": [
        "[**EX18**][**CODE**][**REPORT**] Execute the prediction for the selected model. Adjust the cutoff value to optimize the classifier if you consider necessary. How many **non customers** are you going to send to the sales managers to sell our products to them?\n",
        "\n",
        "\n"
      ]
    },
    {
      "cell_type": "code",
      "execution_count": 83,
      "metadata": {
        "colab": {
          "base_uri": "https://localhost:8080/"
        },
        "id": "7_oHghYIJcIY",
        "outputId": "329c01f7-6901-4be4-95a5-fd49bbe7f889"
      },
      "outputs": [
        {
          "name": "stdout",
          "output_type": "stream",
          "text": [
            "\n",
            " GTB with a cutoff value of  0.5\n",
            "              precision    recall  f1-score   support\n",
            "\n",
            "           0       0.62      0.62      0.62       187\n",
            "           1       0.64      0.63      0.63       196\n",
            "\n",
            "    accuracy                           0.63       383\n",
            "   macro avg       0.63      0.63      0.63       383\n",
            "weighted avg       0.63      0.63      0.63       383\n",
            "\n",
            "Conufusion Matrix: \n",
            "\n",
            " [[116  71]\n",
            " [ 72 124]]\n",
            "\n",
            " GTB with a cutoff value of  0.55\n",
            "              precision    recall  f1-score   support\n",
            "\n",
            "           0       0.58      0.74      0.65       187\n",
            "           1       0.67      0.50      0.57       196\n",
            "\n",
            "    accuracy                           0.62       383\n",
            "   macro avg       0.63      0.62      0.61       383\n",
            "weighted avg       0.63      0.62      0.61       383\n",
            "\n",
            "Conufusion Matrix: \n",
            "\n",
            " [[138  49]\n",
            " [ 98  98]]\n",
            "\n",
            " GTB with a cutoff value of  0.6\n",
            "              precision    recall  f1-score   support\n",
            "\n",
            "           0       0.56      0.79      0.66       187\n",
            "           1       0.68      0.41      0.51       196\n",
            "\n",
            "    accuracy                           0.60       383\n",
            "   macro avg       0.62      0.60      0.59       383\n",
            "weighted avg       0.62      0.60      0.58       383\n",
            "\n",
            "Conufusion Matrix: \n",
            "\n",
            " [[148  39]\n",
            " [115  81]]\n",
            "\n",
            " GTB with a cutoff value of  0.65\n",
            "              precision    recall  f1-score   support\n",
            "\n",
            "           0       0.55      0.87      0.67       187\n",
            "           1       0.72      0.32      0.45       196\n",
            "\n",
            "    accuracy                           0.59       383\n",
            "   macro avg       0.64      0.60      0.56       383\n",
            "weighted avg       0.64      0.59      0.56       383\n",
            "\n",
            "Conufusion Matrix: \n",
            "\n",
            " [[163  24]\n",
            " [133  63]]\n",
            "\n",
            " GTB with a cutoff value of  0.7\n",
            "              precision    recall  f1-score   support\n",
            "\n",
            "           0       0.53      0.92      0.67       187\n",
            "           1       0.75      0.22      0.35       196\n",
            "\n",
            "    accuracy                           0.56       383\n",
            "   macro avg       0.64      0.57      0.51       383\n",
            "weighted avg       0.64      0.56      0.51       383\n",
            "\n",
            "Conufusion Matrix: \n",
            "\n",
            " [[172  15]\n",
            " [152  44]]\n",
            "\n",
            " GTB with a cutoff value of  0.75\n",
            "              precision    recall  f1-score   support\n",
            "\n",
            "           0       0.52      0.95      0.67       187\n",
            "           1       0.76      0.15      0.25       196\n",
            "\n",
            "    accuracy                           0.54       383\n",
            "   macro avg       0.64      0.55      0.46       383\n",
            "weighted avg       0.64      0.54      0.45       383\n",
            "\n",
            "Conufusion Matrix: \n",
            "\n",
            " [[178   9]\n",
            " [167  29]]\n",
            "\n",
            " GTB with a cutoff value of  0.8\n",
            "              precision    recall  f1-score   support\n",
            "\n",
            "           0       0.52      0.97      0.68       187\n",
            "           1       0.84      0.13      0.23       196\n",
            "\n",
            "    accuracy                           0.54       383\n",
            "   macro avg       0.68      0.55      0.45       383\n",
            "weighted avg       0.68      0.54      0.45       383\n",
            "\n",
            "Conufusion Matrix: \n",
            "\n",
            " [[182   5]\n",
            " [170  26]]\n"
          ]
        }
      ],
      "source": [
        "y_pred_grad = gbt.predict_proba(X_test)\n",
        "cutoff_values = [0.5,0.55,0.6,0.65,0.7,0.75,0.8]\n",
        "\n",
        "y_pred_gbt_tot = np.concatenate((y_pred_grad[:,1].reshape(-1,1),np.asarray(y_test).reshape(-1,1)),axis=1)\n",
        "\n",
        "for cutoff in cutoff_values:\n",
        "  y_pred_grad = gbt.predict_proba(X_test)\n",
        "  y_pred_change = []\n",
        "\n",
        "  for i in range (len(y_pred_gbt_tot)):\n",
        "    if y_pred_grad[i,1]>=cutoff:\n",
        "      y_pred_change.append(1)\n",
        "    else:\n",
        "      y_pred_change.append(0)\n",
        "  print(\"\\n GTB with a cutoff value of \", cutoff)\n",
        "  print(classification_report(y_test,y_pred_change))\n",
        "  print(\"Conufusion Matrix: \\n\\n\", confusion_matrix(y_test,y_pred_change))"
      ]
    },
    {
      "cell_type": "markdown",
      "metadata": {
        "id": "2OKOVuCNKLjt"
      },
      "source": [
        "Usually, Marketing department needs to know and understand the main features of the algorithms. The code below returns the importance of each feature of the `training_dataset`."
      ]
    },
    {
      "cell_type": "code",
      "execution_count": 84,
      "metadata": {
        "id": "nX4VfjM4KLjt"
      },
      "outputs": [],
      "source": [
        "features=['City_coded','Revenue', 'Sector', 'Legal_Form_Code', 'CNT_EMPLOYEE', 'CNT_CB_DENSITY',\n",
        "                            'CNT_CB_MOB_DENSITY', 'CNT_CB_FN_DENS', 'Mobile_potential']\n",
        "features_values=gbt.feature_importances_\n",
        "features_importance=[]\n",
        "for i in range (len(features)):\n",
        "    features_importance.append([features[i],features_values[i]])"
      ]
    },
    {
      "cell_type": "markdown",
      "metadata": {
        "id": "3gE_DYCvKLjw"
      },
      "source": [
        "[**EX19**][**CODE**][**REPORT**] Order the features by importance. Which are the top 3 features to discriminate between **non customers** and **customers**?"
      ]
    },
    {
      "cell_type": "code",
      "execution_count": 85,
      "metadata": {
        "colab": {
          "base_uri": "https://localhost:8080/"
        },
        "id": "YSPfdftsJ_O3",
        "outputId": "b721cb07-8efa-47a7-f6d8-92c1f4710c84"
      },
      "outputs": [
        {
          "name": "stdout",
          "output_type": "stream",
          "text": [
            "1.- CNT_CB_MOB_DENSITY: 0.215\n",
            "2.- Mobile_potential: 0.203\n",
            "3.- Legal_Form_Code: 0.125\n"
          ]
        }
      ],
      "source": [
        "# Sort the features by importance score\n",
        "features_ordered = sorted(features_importance, key = lambda tup: tup[1], reverse = True)\n",
        "for i in range(3):\n",
        "  print(\"%d.- %s: %.3f\"%(i+1,features_ordered[i][0],features_ordered[i][1]))"
      ]
    },
    {
      "cell_type": "markdown",
      "metadata": {
        "id": "-htmJrDzKLjy"
      },
      "source": [
        "  [**EX20**][**REPORT**] In this project, we have used classification techniques to identify potential customers. We have adjusted the main classification parameters as cutoff, recall and precision according to the final purpose: in out case, identify **non customers** that could be interested to buy our products. Consider a new campaign focused on accelerating the sales of a **New IoT tariff** to our customers. Answer the following questions:\n",
        "- In this case, which is the **target** variable? Which are **target=0** samples? And **target=1**?\n",
        "- As the marketing campaing is oriented to our customers we will have further information about them in our internal systems. In particular, we could add to the information of the previous section 3 new variables: data and voice consumption and mobile expense. Adding more data to the dataset may imply more computational data and cost. Would you add these 3 new variables to dataset? Justify your answer.\n",
        "- Today this New IoT tariff is very popular among our customers. Will the training dataset be balanced or unbalanced? Justify your answer.\n",
        "\n",
        "Imagine the following scatter plot (`Number of IoT devices (units)` vs `Number of IoT applications (units)`):\n",
        "\n",
        "![<scatter_plot>](scatter_plot.png)\n",
        "- Describe in terms of `Number of IoT devices (units)` and `Number of IoT applications (units)` the **pattern** of target 1 customers\n",
        "- Draw a plane to separate both classes\n",
        "- Is the training dataset balanced? Justiy your answer\n",
        "- According to the previous plane, which are the customers to be phoned to sell the New IoT tariff?\n",
        "- Could you estimate the **precision** and **recall** of the classification?"
      ]
    },
    {
      "cell_type": "markdown",
      "metadata": {
        "id": "iMNvG74dgX5k"
      },
      "source": [
        "![scatter_plot.png](data:image/png;base64,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)"
      ]
    },
    {
      "cell_type": "markdown",
      "metadata": {
        "id": "WqGzZF61KLjy"
      },
      "source": [
        "*******"
      ]
    }
  ],
  "metadata": {
    "colab": {
      "collapsed_sections": [],
      "name": "P02.ipynb",
      "provenance": []
    },
    "kernelspec": {
      "display_name": "Python 3",
      "language": "python",
      "name": "python3"
    },
    "language_info": {
      "codemirror_mode": {
        "name": "ipython",
        "version": 3
      },
      "file_extension": ".py",
      "mimetype": "text/x-python",
      "name": "python",
      "nbconvert_exporter": "python",
      "pygments_lexer": "ipython3",
      "version": "3.8.5"
    },
    "toc": {
      "base_numbering": 1,
      "nav_menu": {},
      "number_sections": true,
      "sideBar": true,
      "skip_h1_title": false,
      "title_cell": "Table of Contents",
      "title_sidebar": "Contents",
      "toc_cell": false,
      "toc_position": {},
      "toc_section_display": true,
      "toc_window_display": false
    },
    "varInspector": {
      "cols": {
        "lenName": 16,
        "lenType": 16,
        "lenVar": 40
      },
      "kernels_config": {
        "python": {
          "delete_cmd_postfix": "",
          "delete_cmd_prefix": "del ",
          "library": "var_list.py",
          "varRefreshCmd": "print(var_dic_list())"
        },
        "r": {
          "delete_cmd_postfix": ") ",
          "delete_cmd_prefix": "rm(",
          "library": "var_list.r",
          "varRefreshCmd": "cat(var_dic_list()) "
        }
      },
      "types_to_exclude": [
        "module",
        "function",
        "builtin_function_or_method",
        "instance",
        "_Feature"
      ],
      "window_display": false
    }
  },
  "nbformat": 4,
  "nbformat_minor": 0
}
